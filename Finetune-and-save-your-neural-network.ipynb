{
 "cells": [
  {
   "attachments": {},
   "cell_type": "markdown",
   "metadata": {},
   "source": [
    "## Imports"
   ]
  },
  {
   "cell_type": "code",
   "execution_count": 20,
   "metadata": {},
   "outputs": [],
   "source": [
    "# Data manipulation\n",
    "import time\n",
    "import numpy as np\n",
    "import pandas as pd\n",
    "\n",
    "# Data Visualization\n",
    "import matplotlib.pyplot as plt\n",
    "import seaborn as sns\n",
    "%matplotlib inline\n",
    "\n",
    "from sklearn.preprocessing import StandardScaler\n",
    "\n",
    "# KERAS\n",
    "from tensorflow.keras import models, layers\n",
    "from tensorflow.keras.callbacks import EarlyStopping\n",
    "from tensorflow.keras.datasets import boston_housing\n",
    "from tensorflow.keras.optimizers import Adam\n",
    "from tensorflow.keras.optimizers.schedules import ExponentialDecay"
   ]
  },
  {
   "attachments": {},
   "cell_type": "markdown",
   "metadata": {},
   "source": [
    "# Fine-Tune your Neural Network and Save it\n",
    "\n",
    "🎯 **Goals of this challenge**\n",
    "\n",
    "1. ⚙️ **Fine-tune the optimizer** of a Neural Network\n",
    "2. 💾 **Save**/**Load** a trained Neural Network\n",
    "\n",
    "👩🏻‍🏫 Now that you have solid foundations about what Neural Networks are, how to design their architecture, and how to prevent them from overfitting, let's take a closer look at the `.compile(loss = ?, metrics = ?, activation = ?)` part."
   ]
  },
  {
   "attachments": {},
   "cell_type": "markdown",
   "metadata": {},
   "source": [
    "## (0) The Boston Housing Dataset\n",
    "\n",
    "📚 `Tensorflow.Keras` has several built-in datasets that you can find [here](https://www.tensorflow.org/api_docs/python/tf/keras/datasets)\n",
    "\n",
    "🏠 Out of those, we are going to use the **Boston Housing Dataset**.\n",
    "\n",
    "Our mission is to **predict the values of the houses in USD (thousands)**, and we will measure the performance of our models using the _Mean Absolute Error (MAE)_ metric."
   ]
  },
  {
   "attachments": {},
   "cell_type": "markdown",
   "metadata": {},
   "source": [
    "### (0.1) Loading the Dataset"
   ]
  },
  {
   "cell_type": "code",
   "execution_count": 21,
   "metadata": {},
   "outputs": [],
   "source": [
    "# Loading the dataset:\n",
    "(X_train, y_train), (X_test, y_test) = boston_housing.load_data()"
   ]
  },
  {
   "cell_type": "code",
   "execution_count": 22,
   "metadata": {},
   "outputs": [
    {
     "data": {
      "text/plain": [
       "(((404, 13), (404,)), ((102, 13), (102,)))"
      ]
     },
     "execution_count": 22,
     "metadata": {},
     "output_type": "execute_result"
    }
   ],
   "source": [
    "# Shape of the dataset: \n",
    "(X_train.shape, y_train.shape), (X_test.shape, y_test.shape)"
   ]
  },
  {
   "attachments": {},
   "cell_type": "markdown",
   "metadata": {},
   "source": [
    "### (0.2) Quick Glance at the Target"
   ]
  },
  {
   "cell_type": "code",
   "execution_count": 23,
   "metadata": {},
   "outputs": [
    {
     "data": {
      "text/plain": [
       "<Axes: ylabel='Count'>"
      ]
     },
     "execution_count": 23,
     "metadata": {},
     "output_type": "execute_result"
    },
    {
     "data": {
      "image/png": "[encoded data removed]",
      "text/plain": [
       "<Figure size 640x480 with 1 Axes>"
      ]
     },
     "metadata": {},
     "output_type": "display_data"
    }
   ],
   "source": [
    "# Distribution of the houses' prices in the training set\n",
    "sns.histplot(y_train)"
   ]
  },
  {
   "cell_type": "code",
   "execution_count": 24,
   "metadata": {},
   "outputs": [
    {
     "name": "stdout",
     "output_type": "stream",
     "text": [
      "<class 'pandas.core.frame.DataFrame'>\n",
      "RangeIndex: 404 entries, 0 to 403\n",
      "Data columns (total 13 columns):\n",
      " #   Column  Non-Null Count  Dtype  \n",
      "---  ------  --------------  -----  \n",
      " 0   0       404 non-null    float64\n",
      " 1   1       404 non-null    float64\n",
      " 2   2       404 non-null    float64\n",
      " 3   3       404 non-null    float64\n",
      " 4   4       404 non-null    float64\n",
      " 5   5       404 non-null    float64\n",
      " 6   6       404 non-null    float64\n",
      " 7   7       404 non-null    float64\n",
      " 8   8       404 non-null    float64\n",
      " 9   9       404 non-null    float64\n",
      " 10  10      404 non-null    float64\n",
      " 11  11      404 non-null    float64\n",
      " 12  12      404 non-null    float64\n",
      "dtypes: float64(13)\n",
      "memory usage: 41.2 KB\n"
     ]
    }
   ],
   "source": [
    "# Null values and types of each feature:\n",
    "pd.DataFrame(X_train).info()"
   ]
  },
  {
   "cell_type": "code",
   "execution_count": 25,
   "metadata": {},
   "outputs": [
    {
     "data": {
      "text/html": [
       "<div>\n",
       "<style scoped>\n",
       "    .dataframe tbody tr th:only-of-type {\n",
       "        vertical-align: middle;\n",
       "    }\n",
       "\n",
       "    .dataframe tbody tr th {\n",
       "        vertical-align: top;\n",
       "    }\n",
       "\n",
       "    .dataframe thead th {\n",
       "        text-align: right;\n",
       "    }\n",
       "</style>\n",
       "<table border=\"1\" class=\"dataframe\">\n",
       "  <thead>\n",
       "    <tr style=\"text-align: right;\">\n",
       "      <th></th>\n",
       "      <th>0</th>\n",
       "      <th>1</th>\n",
       "      <th>2</th>\n",
       "      <th>3</th>\n",
       "      <th>4</th>\n",
       "      <th>5</th>\n",
       "      <th>6</th>\n",
       "      <th>7</th>\n",
       "      <th>8</th>\n",
       "      <th>9</th>\n",
       "      <th>10</th>\n",
       "      <th>11</th>\n",
       "      <th>12</th>\n",
       "    </tr>\n",
       "  </thead>\n",
       "  <tbody>\n",
       "    <tr>\n",
       "      <th>count</th>\n",
       "      <td>404.000000</td>\n",
       "      <td>404.000000</td>\n",
       "      <td>404.000000</td>\n",
       "      <td>404.000000</td>\n",
       "      <td>404.000000</td>\n",
       "      <td>404.000000</td>\n",
       "      <td>404.000000</td>\n",
       "      <td>404.000000</td>\n",
       "      <td>404.000000</td>\n",
       "      <td>404.000000</td>\n",
       "      <td>404.000000</td>\n",
       "      <td>404.000000</td>\n",
       "      <td>404.000000</td>\n",
       "    </tr>\n",
       "    <tr>\n",
       "      <th>mean</th>\n",
       "      <td>3.745111</td>\n",
       "      <td>11.480198</td>\n",
       "      <td>11.104431</td>\n",
       "      <td>0.061881</td>\n",
       "      <td>0.557356</td>\n",
       "      <td>6.267082</td>\n",
       "      <td>69.010644</td>\n",
       "      <td>3.740271</td>\n",
       "      <td>9.440594</td>\n",
       "      <td>405.898515</td>\n",
       "      <td>18.475990</td>\n",
       "      <td>354.783168</td>\n",
       "      <td>12.740817</td>\n",
       "    </tr>\n",
       "    <tr>\n",
       "      <th>std</th>\n",
       "      <td>9.240734</td>\n",
       "      <td>23.767711</td>\n",
       "      <td>6.811308</td>\n",
       "      <td>0.241238</td>\n",
       "      <td>0.117293</td>\n",
       "      <td>0.709788</td>\n",
       "      <td>27.940665</td>\n",
       "      <td>2.030215</td>\n",
       "      <td>8.698360</td>\n",
       "      <td>166.374543</td>\n",
       "      <td>2.200382</td>\n",
       "      <td>94.111148</td>\n",
       "      <td>7.254545</td>\n",
       "    </tr>\n",
       "    <tr>\n",
       "      <th>min</th>\n",
       "      <td>0.006320</td>\n",
       "      <td>0.000000</td>\n",
       "      <td>0.460000</td>\n",
       "      <td>0.000000</td>\n",
       "      <td>0.385000</td>\n",
       "      <td>3.561000</td>\n",
       "      <td>2.900000</td>\n",
       "      <td>1.129600</td>\n",
       "      <td>1.000000</td>\n",
       "      <td>188.000000</td>\n",
       "      <td>12.600000</td>\n",
       "      <td>0.320000</td>\n",
       "      <td>1.730000</td>\n",
       "    </tr>\n",
       "    <tr>\n",
       "      <th>25%</th>\n",
       "      <td>0.081437</td>\n",
       "      <td>0.000000</td>\n",
       "      <td>5.130000</td>\n",
       "      <td>0.000000</td>\n",
       "      <td>0.453000</td>\n",
       "      <td>5.874750</td>\n",
       "      <td>45.475000</td>\n",
       "      <td>2.077100</td>\n",
       "      <td>4.000000</td>\n",
       "      <td>279.000000</td>\n",
       "      <td>17.225000</td>\n",
       "      <td>374.672500</td>\n",
       "      <td>6.890000</td>\n",
       "    </tr>\n",
       "    <tr>\n",
       "      <th>50%</th>\n",
       "      <td>0.268880</td>\n",
       "      <td>0.000000</td>\n",
       "      <td>9.690000</td>\n",
       "      <td>0.000000</td>\n",
       "      <td>0.538000</td>\n",
       "      <td>6.198500</td>\n",
       "      <td>78.500000</td>\n",
       "      <td>3.142300</td>\n",
       "      <td>5.000000</td>\n",
       "      <td>330.000000</td>\n",
       "      <td>19.100000</td>\n",
       "      <td>391.250000</td>\n",
       "      <td>11.395000</td>\n",
       "    </tr>\n",
       "    <tr>\n",
       "      <th>75%</th>\n",
       "      <td>3.674808</td>\n",
       "      <td>12.500000</td>\n",
       "      <td>18.100000</td>\n",
       "      <td>0.000000</td>\n",
       "      <td>0.631000</td>\n",
       "      <td>6.609000</td>\n",
       "      <td>94.100000</td>\n",
       "      <td>5.118000</td>\n",
       "      <td>24.000000</td>\n",
       "      <td>666.000000</td>\n",
       "      <td>20.200000</td>\n",
       "      <td>396.157500</td>\n",
       "      <td>17.092500</td>\n",
       "    </tr>\n",
       "    <tr>\n",
       "      <th>max</th>\n",
       "      <td>88.976200</td>\n",
       "      <td>100.000000</td>\n",
       "      <td>27.740000</td>\n",
       "      <td>1.000000</td>\n",
       "      <td>0.871000</td>\n",
       "      <td>8.725000</td>\n",
       "      <td>100.000000</td>\n",
       "      <td>10.710300</td>\n",
       "      <td>24.000000</td>\n",
       "      <td>711.000000</td>\n",
       "      <td>22.000000</td>\n",
       "      <td>396.900000</td>\n",
       "      <td>37.970000</td>\n",
       "    </tr>\n",
       "  </tbody>\n",
       "</table>\n",
       "</div>"
      ],
      "text/plain": [
       "               0           1           2           3           4           5   \\\n",
       "count  404.000000  404.000000  404.000000  404.000000  404.000000  404.000000   \n",
       "mean     3.745111   11.480198   11.104431    0.061881    0.557356    6.267082   \n",
       "std      9.240734   23.767711    6.811308    0.241238    0.117293    0.709788   \n",
       "min      0.006320    0.000000    0.460000    0.000000    0.385000    3.561000   \n",
       "25%      0.081437    0.000000    5.130000    0.000000    0.453000    5.874750   \n",
       "50%      0.268880    0.000000    9.690000    0.000000    0.538000    6.198500   \n",
       "75%      3.674808   12.500000   18.100000    0.000000    0.631000    6.609000   \n",
       "max     88.976200  100.000000   27.740000    1.000000    0.871000    8.725000   \n",
       "\n",
       "               6           7           8           9           10          11  \\\n",
       "count  404.000000  404.000000  404.000000  404.000000  404.000000  404.000000   \n",
       "mean    69.010644    3.740271    9.440594  405.898515   18.475990  354.783168   \n",
       "std     27.940665    2.030215    8.698360  166.374543    2.200382   94.111148   \n",
       "min      2.900000    1.129600    1.000000  188.000000   12.600000    0.320000   \n",
       "25%     45.475000    2.077100    4.000000  279.000000   17.225000  374.672500   \n",
       "50%     78.500000    3.142300    5.000000  330.000000   19.100000  391.250000   \n",
       "75%     94.100000    5.118000   24.000000  666.000000   20.200000  396.157500   \n",
       "max    100.000000   10.710300   24.000000  711.000000   22.000000  396.900000   \n",
       "\n",
       "               12  \n",
       "count  404.000000  \n",
       "mean    12.740817  \n",
       "std      7.254545  \n",
       "min      1.730000  \n",
       "25%      6.890000  \n",
       "50%     11.395000  \n",
       "75%     17.092500  \n",
       "max     37.970000  "
      ]
     },
     "execution_count": 25,
     "metadata": {},
     "output_type": "execute_result"
    }
   ],
   "source": [
    "# Statistics about the numerical columns\n",
    "pd.DataFrame(X_train).describe()"
   ]
  },
  {
   "attachments": {},
   "cell_type": "markdown",
   "metadata": {},
   "source": [
    "### (0.3) Minimal Data Preprocessing\n",
    "\n",
    "👉 Here, we don't have any duplicates or missing values. Let's do the bare minimum of data preprocessing, i.e. ***scaling**, and move on quickly to the modeling phase."
   ]
  },
  {
   "attachments": {},
   "cell_type": "markdown",
   "metadata": {},
   "source": [
    "#### ❓Scaling your Features\n",
    "\n",
    "Standardize `X_train` and `X_test`."
   ]
  },
  {
   "cell_type": "code",
   "execution_count": 26,
   "metadata": {
    "tags": [
     "challengify"
    ]
   },
   "outputs": [],
   "source": [
    "scaler = StandardScaler()\n",
    "\n",
    "X_train_scaled = scaler.fit_transform(X_train)\n",
    "X_test_scaled = scaler.transform(X_test)"
   ]
  },
  {
   "attachments": {},
   "cell_type": "markdown",
   "metadata": {},
   "source": [
    "### (0.4) Baseline Model\n",
    "\n",
    "🧑🏻‍🏫 In a regression task, the baseline model **always predicts the average value of `y_train`**\n",
    "\n",
    "<details>\n",
    "    <summary>Really?</summary>\n",
    "    \n",
    "- 🐒  Yes, in most cases!\n",
    "- ❗️  Be aware that this is not the only possible way of building a baseline model\n",
    "- 💹  In Time Series, the baseline model predicts the **last seen value**"
   ]
  },
  {
   "attachments": {},
   "cell_type": "markdown",
   "metadata": {},
   "source": [
    "#### ❓Question: what would be the performance of the baseline model here?\n",
    "\n",
    "Before running any Machine Learning algorithm or advanced Deep Learning Neural Networks, it would be great to establish a benchmark score that you are supposed to beat. Otherwise, what is the point of running a fancy algorithm if you cannot beat this benchmark score on the testing set (other than showing off)?\n",
    "\n",
    "Compute the Mean Absolute Error on the testing set using a \"dumb\" prediction of the mean value of `y_train`, computed on the training set."
   ]
  },
  {
   "cell_type": "code",
   "execution_count": 27,
   "metadata": {
    "tags": [
     "challengify"
    ]
   },
   "outputs": [
    {
     "name": "stdout",
     "output_type": "stream",
     "text": [
      "the baseline mean absolute error (mae) on the testing set 6.53\n"
     ]
    }
   ],
   "source": [
    "from sklearn.metrics import mean_absolute_error\n",
    "\n",
    "mean_y_train = np.mean(y_train)\n",
    "\n",
    "baseline_predictions = np.full_like(y_test, mean_y_train)\n",
    "\n",
    "baseline_mae = mean_absolute_error(y_test, baseline_predictions)\n",
    "\n",
    "print(f\"the baseline mean absolute error (mae) on the testing set {baseline_mae:.2f}\")"
   ]
  },
  {
   "cell_type": "markdown",
   "metadata": {},
   "source": [
    "## (1) The Neural Network"
   ]
  },
  {
   "attachments": {},
   "cell_type": "markdown",
   "metadata": {},
   "source": [
    "### ❓Initializing a Neural Network with a Specific Architecture\n",
    "\n",
    "Write a function called `initialize_model` that generates a Neural Network with 3 layers:\n",
    "- Input layer: **10 neurons**, `relu` activation function, and the appropriate input dimension\n",
    "- Hidden layer: **7 neurons** and the `relu` activation function\n",
    "- Predictive layer: an appropriate layer corresponding to the problem we are trying to solve"
   ]
  },
  {
   "cell_type": "code",
   "execution_count": 28,
   "metadata": {},
   "outputs": [],
   "source": [
    "from tensorflow.keras import models, layers\n",
    "\n",
    "def initialize_model():\n",
    "    model = models.Sequential()\n",
    "\n",
    "    model.add(layers.Dense(10, activation='relu', input_dim=10))\n",
    "\n",
    "    model.add(layers.Dense(7, activation='relu'))\n",
    "\n",
    "    model.add(layers.Dense(1, activation='linear'))\n",
    "\n",
    "    return model"
   ]
  },
  {
   "attachments": {},
   "cell_type": "markdown",
   "metadata": {},
   "source": [
    "#### ❓Number of Parameters\n",
    "\n",
    "How many parameters do we have in this model? \n",
    "1. Compute this number yourself\n",
    "2. Double-check your answer with `model.summary()`\n",
    "\n",
    "We already covered the question about the number of parameters in a fully connected/dense network during **Deep Learning > 01. Fundamentals of Deep Learning** but it is always good to make sure you master the foundations of a new discipline 😉"
   ]
  },
  {
   "cell_type": "code",
   "execution_count": 29,
   "metadata": {
    "tags": [
     "challengify"
    ]
   },
   "outputs": [
    {
     "name": "stdout",
     "output_type": "stream",
     "text": [
      "Model: \"sequential_5\"\n",
      "_________________________________________________________________\n",
      " Layer (type)                Output Shape              Param #   \n",
      "=================================================================\n",
      " dense_15 (Dense)            (None, 10)                110       \n",
      "                                                                 \n",
      " dense_16 (Dense)            (None, 7)                 77        \n",
      "                                                                 \n",
      " dense_17 (Dense)            (None, 1)                 8         \n",
      "                                                                 \n",
      "=================================================================\n",
      "Total params: 195\n",
      "Trainable params: 195\n",
      "Non-trainable params: 0\n",
      "_________________________________________________________________\n"
     ]
    }
   ],
   "source": [
    "model = initialize_model()\n",
    "model.summary()"
   ]
  },
  {
   "attachments": {},
   "cell_type": "markdown",
   "metadata": {},
   "source": [
    "##### 💡Answer\n",
    "\n",
    "<details>\n",
    "    <summary>Click here</summary>\n",
    "\n",
    "- Each house has `X_train.shape[-1]` = 13 features\n",
    "- Remember that a neuron is a linear regression combined with an activation function, so we will have 13 weights and 1 bias\n",
    "\n",
    "1. First layer: **10 neurons** $\\times$ (13 weights + 1 bias ) = 140 params\n",
    "2. Second layer: **7 neurons** $\\times$ (10 weights + 1 bias ) = 77 params\n",
    "3. Third layer: **1 neuron** $\\times$ (7 weights + 1 bias) = 8 params\n",
    "</details>"
   ]
  },
  {
   "attachments": {},
   "cell_type": "markdown",
   "metadata": {},
   "source": [
    "## (2) The Optimizer"
   ]
  },
  {
   "attachments": {},
   "cell_type": "markdown",
   "metadata": {},
   "source": [
    "### ❓Compiling Method\n",
    "\n",
    "Write a function that:\n",
    "1. takes _both_ a **model** and an **optimizer** as arguments\n",
    "2. **compiles** the model\n",
    "3. returns the compiled model\n",
    "\n",
    "Please select wisely:\n",
    "- the **Loss Function** to be optimized\n",
    "- the **metrics** on which the model should be evaluated"
   ]
  },
  {
   "cell_type": "code",
   "execution_count": 37,
   "metadata": {},
   "outputs": [],
   "source": [
    "from tensorflow.keras import models, layers\n",
    "\n",
    "def initialize_model(input_dim=10):\n",
    "    # Create a Sequential model\n",
    "    model = models.Sequential()\n",
    "\n",
    "    # Input layer with 10 neurons and relu activation function\n",
    "    model.add(layers.Dense(10, activation='relu', input_shape=(input_dim,)))\n",
    "\n",
    "    # Hidden layer with 7 neurons and relu activation function\n",
    "    model.add(layers.Dense(7, activation='relu'))\n",
    "\n",
    "    # Predictive layer (output layer) for regression problems\n",
    "    model.add(layers.Dense(1, activation='linear'))\n",
    "\n",
    "    return model\n"
   ]
  },
  {
   "attachments": {},
   "cell_type": "markdown",
   "metadata": {},
   "source": [
    "### ❓Evaluating the Model\n",
    "\n",
    "- Initialize the model and compile it with the `adam` optimizer\n",
    "- Fit it on the training data\n",
    "- Evaluate your model on the testing data\n",
    "\n",
    "Don't forget to use an Early Stopping criterion to avoid overfitting!\n",
    "\n",
    "<details>\n",
    "    <summary>Notes</summary>\n",
    "\n",
    "As we saw in the **\"How to prevent overfitting\"** challenge,  you could also use L2 penalties and Dropout Layers to prevent overfitting but:\n",
    "- Early Stopping is the easiest and quickest code to implement, you just declare `es = EarlyStopping()` and call it back in the `.fit()` step\n",
    "- The main goal of this challenge is to understand the **impact of the optimizer**, so stay focused 😉\n",
    "</details>"
   ]
  },
  {
   "cell_type": "code",
   "execution_count": 38,
   "metadata": {
    "tags": [
     "challengify"
    ]
   },
   "outputs": [
    {
     "name": "stdout",
     "output_type": "stream",
     "text": [
      "Epoch 1/500\n",
      "18/18 [==============================] - 0s 5ms/step - loss: 543.1788 - mae: 21.7106 - val_loss: 627.9576 - val_mae: 22.9838\n",
      "Epoch 2/500\n",
      "18/18 [==============================] - 0s 1ms/step - loss: 531.5576 - mae: 21.4646 - val_loss: 614.9076 - val_mae: 22.7162\n",
      "Epoch 3/500\n",
      "18/18 [==============================] - 0s 1ms/step - loss: 517.8447 - mae: 21.1775 - val_loss: 600.3746 - val_mae: 22.4149\n",
      "Epoch 4/500\n",
      "18/18 [==============================] - 0s 1ms/step - loss: 502.2988 - mae: 20.8487 - val_loss: 582.6312 - val_mae: 22.0406\n",
      "Epoch 5/500\n",
      "18/18 [==============================] - 0s 1ms/step - loss: 483.0876 - mae: 20.4461 - val_loss: 561.3716 - val_mae: 21.5828\n",
      "Epoch 6/500\n",
      "18/18 [==============================] - 0s 1ms/step - loss: 460.8688 - mae: 19.9457 - val_loss: 535.0380 - val_mae: 20.9971\n",
      "Epoch 7/500\n",
      "18/18 [==============================] - 0s 1ms/step - loss: 432.4195 - mae: 19.3141 - val_loss: 504.3737 - val_mae: 20.2855\n",
      "Epoch 8/500\n",
      "18/18 [==============================] - 0s 1ms/step - loss: 399.1958 - mae: 18.5144 - val_loss: 467.9035 - val_mae: 19.3939\n",
      "Epoch 9/500\n",
      "18/18 [==============================] - 0s 1ms/step - loss: 361.3133 - mae: 17.5362 - val_loss: 426.6802 - val_mae: 18.3068\n",
      "Epoch 10/500\n",
      "18/18 [==============================] - 0s 1ms/step - loss: 318.8947 - mae: 16.3858 - val_loss: 384.8438 - val_mae: 17.0850\n",
      "Epoch 11/500\n",
      "18/18 [==============================] - 0s 1ms/step - loss: 277.6978 - mae: 15.0924 - val_loss: 341.7171 - val_mae: 15.6648\n",
      "Epoch 12/500\n",
      "18/18 [==============================] - 0s 1ms/step - loss: 236.3824 - mae: 13.6510 - val_loss: 303.4594 - val_mae: 14.2193\n",
      "Epoch 13/500\n",
      "18/18 [==============================] - 0s 1ms/step - loss: 201.5461 - mae: 12.2750 - val_loss: 268.7524 - val_mae: 12.9038\n",
      "Epoch 14/500\n",
      "18/18 [==============================] - 0s 2ms/step - loss: 171.6968 - mae: 11.0392 - val_loss: 240.8441 - val_mae: 11.8858\n",
      "Epoch 15/500\n",
      "18/18 [==============================] - 0s 1ms/step - loss: 147.7842 - mae: 10.0286 - val_loss: 218.9330 - val_mae: 11.2160\n",
      "Epoch 16/500\n",
      "18/18 [==============================] - 0s 2ms/step - loss: 129.8612 - mae: 9.2264 - val_loss: 199.7619 - val_mae: 10.6074\n",
      "Epoch 17/500\n",
      "18/18 [==============================] - 0s 1ms/step - loss: 114.3057 - mae: 8.5425 - val_loss: 183.4327 - val_mae: 10.0784\n",
      "Epoch 18/500\n",
      "18/18 [==============================] - 0s 1ms/step - loss: 100.9354 - mae: 7.8941 - val_loss: 167.8169 - val_mae: 9.6166\n",
      "Epoch 19/500\n",
      "18/18 [==============================] - 0s 1ms/step - loss: 89.1276 - mae: 7.2770 - val_loss: 154.3870 - val_mae: 9.2050\n",
      "Epoch 20/500\n",
      "18/18 [==============================] - 0s 1ms/step - loss: 79.0434 - mae: 6.7704 - val_loss: 142.9292 - val_mae: 8.8356\n",
      "Epoch 21/500\n",
      "18/18 [==============================] - 0s 1ms/step - loss: 70.5063 - mae: 6.2918 - val_loss: 132.1730 - val_mae: 8.4302\n",
      "Epoch 22/500\n",
      "18/18 [==============================] - 0s 1ms/step - loss: 63.3393 - mae: 5.8664 - val_loss: 123.0070 - val_mae: 8.0766\n",
      "Epoch 23/500\n",
      "18/18 [==============================] - 0s 1ms/step - loss: 57.5402 - mae: 5.5348 - val_loss: 114.6415 - val_mae: 7.7429\n",
      "Epoch 24/500\n",
      "18/18 [==============================] - 0s 1ms/step - loss: 52.5077 - mae: 5.2349 - val_loss: 107.5015 - val_mae: 7.4488\n",
      "Epoch 25/500\n",
      "18/18 [==============================] - 0s 1ms/step - loss: 48.3301 - mae: 4.9951 - val_loss: 101.5083 - val_mae: 7.1788\n",
      "Epoch 26/500\n",
      "18/18 [==============================] - 0s 1ms/step - loss: 44.9512 - mae: 4.7710 - val_loss: 95.9697 - val_mae: 6.9333\n",
      "Epoch 27/500\n",
      "18/18 [==============================] - 0s 1ms/step - loss: 42.0001 - mae: 4.5747 - val_loss: 90.0200 - val_mae: 6.6649\n",
      "Epoch 28/500\n",
      "18/18 [==============================] - 0s 1ms/step - loss: 39.3138 - mae: 4.3828 - val_loss: 85.3887 - val_mae: 6.4364\n",
      "Epoch 29/500\n",
      "18/18 [==============================] - 0s 1ms/step - loss: 37.0565 - mae: 4.2382 - val_loss: 81.8557 - val_mae: 6.2411\n",
      "Epoch 30/500\n",
      "18/18 [==============================] - 0s 1ms/step - loss: 35.3454 - mae: 4.1017 - val_loss: 78.4182 - val_mae: 6.0594\n",
      "Epoch 31/500\n",
      "18/18 [==============================] - 0s 1ms/step - loss: 33.8340 - mae: 3.9899 - val_loss: 74.9834 - val_mae: 5.8724\n",
      "Epoch 32/500\n",
      "18/18 [==============================] - 0s 1ms/step - loss: 32.4411 - mae: 3.8916 - val_loss: 72.1443 - val_mae: 5.7196\n",
      "Epoch 33/500\n",
      "18/18 [==============================] - 0s 1ms/step - loss: 31.2604 - mae: 3.8010 - val_loss: 69.6400 - val_mae: 5.5873\n",
      "Epoch 34/500\n",
      "18/18 [==============================] - 0s 1ms/step - loss: 30.2229 - mae: 3.7241 - val_loss: 67.2311 - val_mae: 5.4596\n",
      "Epoch 35/500\n",
      "18/18 [==============================] - 0s 1ms/step - loss: 29.2978 - mae: 3.6606 - val_loss: 65.0384 - val_mae: 5.3534\n",
      "Epoch 36/500\n",
      "18/18 [==============================] - 0s 1ms/step - loss: 28.4448 - mae: 3.6012 - val_loss: 62.9236 - val_mae: 5.2397\n",
      "Epoch 37/500\n",
      "18/18 [==============================] - 0s 1ms/step - loss: 27.5895 - mae: 3.5520 - val_loss: 61.0523 - val_mae: 5.1331\n",
      "Epoch 38/500\n",
      "18/18 [==============================] - 0s 1ms/step - loss: 26.8346 - mae: 3.5064 - val_loss: 59.6159 - val_mae: 5.0541\n",
      "Epoch 39/500\n",
      "18/18 [==============================] - 0s 2ms/step - loss: 26.1820 - mae: 3.4627 - val_loss: 58.0389 - val_mae: 4.9729\n",
      "Epoch 40/500\n",
      "18/18 [==============================] - 0s 2ms/step - loss: 25.5368 - mae: 3.4173 - val_loss: 56.3203 - val_mae: 4.8845\n",
      "Epoch 41/500\n",
      "18/18 [==============================] - 0s 1ms/step - loss: 24.9445 - mae: 3.3818 - val_loss: 54.7090 - val_mae: 4.8035\n",
      "Epoch 42/500\n",
      "18/18 [==============================] - 0s 1ms/step - loss: 24.3422 - mae: 3.3449 - val_loss: 53.6045 - val_mae: 4.7285\n",
      "Epoch 43/500\n",
      "18/18 [==============================] - 0s 1ms/step - loss: 23.7640 - mae: 3.3082 - val_loss: 52.0069 - val_mae: 4.6568\n",
      "Epoch 44/500\n",
      "18/18 [==============================] - 0s 1ms/step - loss: 23.1352 - mae: 3.2751 - val_loss: 50.9746 - val_mae: 4.6071\n",
      "Epoch 45/500\n",
      "18/18 [==============================] - 0s 1ms/step - loss: 22.8453 - mae: 3.2584 - val_loss: 49.4166 - val_mae: 4.5512\n",
      "Epoch 46/500\n",
      "18/18 [==============================] - 0s 1ms/step - loss: 22.2058 - mae: 3.2144 - val_loss: 48.6729 - val_mae: 4.4814\n",
      "Epoch 47/500\n",
      "18/18 [==============================] - 0s 1ms/step - loss: 21.8010 - mae: 3.1906 - val_loss: 47.2572 - val_mae: 4.4215\n",
      "Epoch 48/500\n",
      "18/18 [==============================] - 0s 1ms/step - loss: 21.1870 - mae: 3.1538 - val_loss: 46.5378 - val_mae: 4.3772\n",
      "Epoch 49/500\n",
      "18/18 [==============================] - 0s 1ms/step - loss: 20.7617 - mae: 3.1266 - val_loss: 45.1326 - val_mae: 4.3253\n",
      "Epoch 50/500\n",
      "18/18 [==============================] - 0s 1ms/step - loss: 20.2924 - mae: 3.0991 - val_loss: 44.0672 - val_mae: 4.2939\n",
      "Epoch 51/500\n",
      "18/18 [==============================] - 0s 1ms/step - loss: 19.9744 - mae: 3.0770 - val_loss: 43.2835 - val_mae: 4.2494\n",
      "Epoch 52/500\n",
      "18/18 [==============================] - 0s 1ms/step - loss: 19.5535 - mae: 3.0504 - val_loss: 42.4540 - val_mae: 4.2244\n",
      "Epoch 53/500\n",
      "18/18 [==============================] - 0s 1ms/step - loss: 19.2544 - mae: 3.0302 - val_loss: 41.3517 - val_mae: 4.1769\n",
      "Epoch 54/500\n",
      "18/18 [==============================] - 0s 1ms/step - loss: 18.8712 - mae: 3.0059 - val_loss: 40.5576 - val_mae: 4.1308\n",
      "Epoch 55/500\n",
      "18/18 [==============================] - 0s 1ms/step - loss: 18.5111 - mae: 2.9836 - val_loss: 39.8683 - val_mae: 4.0845\n",
      "Epoch 56/500\n",
      "18/18 [==============================] - 0s 1ms/step - loss: 18.2258 - mae: 2.9621 - val_loss: 39.0401 - val_mae: 4.0624\n",
      "Epoch 57/500\n",
      "18/18 [==============================] - 0s 1ms/step - loss: 17.9077 - mae: 2.9493 - val_loss: 38.4153 - val_mae: 4.0238\n",
      "Epoch 58/500\n",
      "18/18 [==============================] - 0s 1ms/step - loss: 17.6571 - mae: 2.9322 - val_loss: 37.7652 - val_mae: 3.9869\n",
      "Epoch 59/500\n",
      "18/18 [==============================] - 0s 1ms/step - loss: 17.3250 - mae: 2.9110 - val_loss: 37.0674 - val_mae: 3.9530\n",
      "Epoch 60/500\n",
      "18/18 [==============================] - 0s 1ms/step - loss: 17.0599 - mae: 2.8939 - val_loss: 36.4444 - val_mae: 3.9085\n",
      "Epoch 61/500\n",
      "18/18 [==============================] - 0s 1ms/step - loss: 16.7730 - mae: 2.8728 - val_loss: 35.8285 - val_mae: 3.8829\n",
      "Epoch 62/500\n",
      "18/18 [==============================] - 0s 1ms/step - loss: 16.5358 - mae: 2.8609 - val_loss: 35.3863 - val_mae: 3.8626\n",
      "Epoch 63/500\n",
      "18/18 [==============================] - 0s 2ms/step - loss: 16.3022 - mae: 2.8492 - val_loss: 34.9099 - val_mae: 3.8405\n",
      "Epoch 64/500\n",
      "18/18 [==============================] - 0s 2ms/step - loss: 16.0041 - mae: 2.8274 - val_loss: 34.4411 - val_mae: 3.8053\n",
      "Epoch 65/500\n",
      "18/18 [==============================] - 0s 2ms/step - loss: 15.8360 - mae: 2.8217 - val_loss: 33.9920 - val_mae: 3.7730\n",
      "Epoch 66/500\n",
      "18/18 [==============================] - 0s 1ms/step - loss: 15.5720 - mae: 2.8019 - val_loss: 33.3130 - val_mae: 3.7384\n",
      "Epoch 67/500\n",
      "18/18 [==============================] - 0s 1ms/step - loss: 15.3769 - mae: 2.7837 - val_loss: 32.8609 - val_mae: 3.7045\n",
      "Epoch 68/500\n",
      "18/18 [==============================] - 0s 1ms/step - loss: 15.1504 - mae: 2.7746 - val_loss: 32.4119 - val_mae: 3.6820\n",
      "Epoch 69/500\n",
      "18/18 [==============================] - 0s 1ms/step - loss: 14.9642 - mae: 2.7744 - val_loss: 32.0077 - val_mae: 3.6585\n",
      "Epoch 70/500\n",
      "18/18 [==============================] - 0s 1ms/step - loss: 14.7343 - mae: 2.7484 - val_loss: 31.6706 - val_mae: 3.6142\n",
      "Epoch 71/500\n",
      "18/18 [==============================] - 0s 1ms/step - loss: 14.5689 - mae: 2.7299 - val_loss: 31.3659 - val_mae: 3.5933\n",
      "Epoch 72/500\n",
      "18/18 [==============================] - 0s 1ms/step - loss: 14.4099 - mae: 2.7200 - val_loss: 30.7331 - val_mae: 3.5674\n",
      "Epoch 73/500\n",
      "18/18 [==============================] - 0s 1ms/step - loss: 14.1801 - mae: 2.7060 - val_loss: 30.3919 - val_mae: 3.5487\n",
      "Epoch 74/500\n",
      "18/18 [==============================] - 0s 1ms/step - loss: 14.0323 - mae: 2.6991 - val_loss: 29.9761 - val_mae: 3.5296\n",
      "Epoch 75/500\n",
      "18/18 [==============================] - 0s 1ms/step - loss: 13.8862 - mae: 2.6845 - val_loss: 29.9410 - val_mae: 3.5004\n",
      "Epoch 76/500\n",
      "18/18 [==============================] - 0s 1ms/step - loss: 13.7333 - mae: 2.6807 - val_loss: 29.4556 - val_mae: 3.5001\n",
      "Epoch 77/500\n",
      "18/18 [==============================] - 0s 1ms/step - loss: 13.5441 - mae: 2.6671 - val_loss: 29.0622 - val_mae: 3.4669\n",
      "Epoch 78/500\n",
      "18/18 [==============================] - 0s 1ms/step - loss: 13.4706 - mae: 2.6619 - val_loss: 28.8029 - val_mae: 3.4356\n",
      "Epoch 79/500\n",
      "18/18 [==============================] - 0s 1ms/step - loss: 13.2959 - mae: 2.6421 - val_loss: 28.4790 - val_mae: 3.4453\n",
      "Epoch 80/500\n",
      "18/18 [==============================] - 0s 1ms/step - loss: 13.0722 - mae: 2.6282 - val_loss: 28.1751 - val_mae: 3.4043\n",
      "Epoch 81/500\n",
      "18/18 [==============================] - 0s 1ms/step - loss: 12.9738 - mae: 2.6090 - val_loss: 27.9114 - val_mae: 3.3779\n",
      "Epoch 82/500\n",
      "18/18 [==============================] - 0s 1ms/step - loss: 12.8338 - mae: 2.6059 - val_loss: 27.6843 - val_mae: 3.3795\n",
      "Epoch 83/500\n",
      "18/18 [==============================] - 0s 1ms/step - loss: 12.6643 - mae: 2.5841 - val_loss: 27.4245 - val_mae: 3.3466\n",
      "Epoch 84/500\n",
      "18/18 [==============================] - 0s 1ms/step - loss: 12.5262 - mae: 2.5700 - val_loss: 27.1681 - val_mae: 3.3353\n",
      "Epoch 85/500\n",
      "18/18 [==============================] - 0s 1ms/step - loss: 12.4469 - mae: 2.5692 - val_loss: 26.7633 - val_mae: 3.3311\n",
      "Epoch 86/500\n",
      "18/18 [==============================] - 0s 1ms/step - loss: 12.2733 - mae: 2.5502 - val_loss: 26.5542 - val_mae: 3.2985\n",
      "Epoch 87/500\n",
      "18/18 [==============================] - 0s 1ms/step - loss: 12.1627 - mae: 2.5320 - val_loss: 26.3781 - val_mae: 3.2784\n",
      "Epoch 88/500\n",
      "18/18 [==============================] - 0s 1ms/step - loss: 12.0575 - mae: 2.5314 - val_loss: 26.1522 - val_mae: 3.2833\n",
      "Epoch 89/500\n",
      "18/18 [==============================] - 0s 3ms/step - loss: 11.9497 - mae: 2.5256 - val_loss: 25.9986 - val_mae: 3.2682\n",
      "Epoch 90/500\n",
      "18/18 [==============================] - 0s 1ms/step - loss: 11.8096 - mae: 2.5011 - val_loss: 25.8916 - val_mae: 3.2488\n",
      "Epoch 91/500\n",
      "18/18 [==============================] - 0s 1ms/step - loss: 11.7347 - mae: 2.4944 - val_loss: 25.7438 - val_mae: 3.2572\n",
      "Epoch 92/500\n",
      "18/18 [==============================] - 0s 1ms/step - loss: 11.6257 - mae: 2.4853 - val_loss: 25.5344 - val_mae: 3.2231\n",
      "Epoch 93/500\n",
      "18/18 [==============================] - 0s 1ms/step - loss: 11.4972 - mae: 2.4692 - val_loss: 25.4288 - val_mae: 3.2301\n",
      "Epoch 94/500\n",
      "18/18 [==============================] - 0s 1ms/step - loss: 11.4370 - mae: 2.4690 - val_loss: 25.2826 - val_mae: 3.2224\n",
      "Epoch 95/500\n",
      "18/18 [==============================] - 0s 1ms/step - loss: 11.3259 - mae: 2.4588 - val_loss: 24.9129 - val_mae: 3.1929\n",
      "Epoch 96/500\n",
      "18/18 [==============================] - 0s 1ms/step - loss: 11.2465 - mae: 2.4512 - val_loss: 24.8193 - val_mae: 3.1905\n",
      "Epoch 97/500\n",
      "18/18 [==============================] - 0s 1ms/step - loss: 11.1178 - mae: 2.4328 - val_loss: 24.6829 - val_mae: 3.1702\n",
      "Epoch 98/500\n",
      "18/18 [==============================] - 0s 1ms/step - loss: 11.0546 - mae: 2.4263 - val_loss: 24.5075 - val_mae: 3.1590\n",
      "Epoch 99/500\n",
      "18/18 [==============================] - 0s 1ms/step - loss: 11.0230 - mae: 2.4286 - val_loss: 24.2692 - val_mae: 3.1603\n",
      "Epoch 100/500\n",
      "18/18 [==============================] - 0s 1ms/step - loss: 10.8856 - mae: 2.4082 - val_loss: 24.2809 - val_mae: 3.1423\n",
      "Epoch 101/500\n",
      "18/18 [==============================] - 0s 1ms/step - loss: 10.8248 - mae: 2.4061 - val_loss: 24.0469 - val_mae: 3.1376\n",
      "Epoch 102/500\n",
      "18/18 [==============================] - 0s 1ms/step - loss: 10.7943 - mae: 2.3986 - val_loss: 23.8239 - val_mae: 3.1161\n",
      "Epoch 103/500\n",
      "18/18 [==============================] - 0s 1ms/step - loss: 10.6330 - mae: 2.3782 - val_loss: 23.8045 - val_mae: 3.1273\n",
      "Epoch 104/500\n",
      "18/18 [==============================] - 0s 1ms/step - loss: 10.5783 - mae: 2.3773 - val_loss: 23.8451 - val_mae: 3.1192\n",
      "Epoch 105/500\n",
      "18/18 [==============================] - 0s 1ms/step - loss: 10.5321 - mae: 2.3663 - val_loss: 23.6645 - val_mae: 3.1017\n",
      "Epoch 106/500\n",
      "18/18 [==============================] - 0s 1ms/step - loss: 10.4893 - mae: 2.3678 - val_loss: 23.2114 - val_mae: 3.0879\n",
      "Epoch 107/500\n",
      "18/18 [==============================] - 0s 1ms/step - loss: 10.4254 - mae: 2.3727 - val_loss: 23.3236 - val_mae: 3.1038\n",
      "Epoch 108/500\n",
      "18/18 [==============================] - 0s 1ms/step - loss: 10.3525 - mae: 2.3474 - val_loss: 23.1528 - val_mae: 3.0681\n",
      "Epoch 109/500\n",
      "18/18 [==============================] - 0s 1ms/step - loss: 10.2115 - mae: 2.3319 - val_loss: 22.9630 - val_mae: 3.0549\n",
      "Epoch 110/500\n",
      "18/18 [==============================] - 0s 1ms/step - loss: 10.2293 - mae: 2.3428 - val_loss: 23.0207 - val_mae: 3.0680\n",
      "Epoch 111/500\n",
      "18/18 [==============================] - 0s 1ms/step - loss: 10.1005 - mae: 2.3316 - val_loss: 22.7697 - val_mae: 3.0476\n",
      "Epoch 112/500\n",
      "18/18 [==============================] - 0s 1ms/step - loss: 10.0869 - mae: 2.3239 - val_loss: 22.5949 - val_mae: 3.0453\n",
      "Epoch 113/500\n",
      "18/18 [==============================] - 0s 2ms/step - loss: 9.9762 - mae: 2.3147 - val_loss: 22.7113 - val_mae: 3.0584\n",
      "Epoch 114/500\n",
      "18/18 [==============================] - 0s 1ms/step - loss: 9.8865 - mae: 2.3077 - val_loss: 22.4871 - val_mae: 3.0450\n",
      "Epoch 115/500\n",
      "18/18 [==============================] - 0s 1ms/step - loss: 9.8345 - mae: 2.2997 - val_loss: 22.4113 - val_mae: 3.0282\n",
      "Epoch 116/500\n",
      "18/18 [==============================] - 0s 1ms/step - loss: 9.8078 - mae: 2.2930 - val_loss: 22.1840 - val_mae: 3.0209\n",
      "Epoch 117/500\n",
      "18/18 [==============================] - 0s 1ms/step - loss: 9.7150 - mae: 2.2827 - val_loss: 22.2839 - val_mae: 3.0326\n",
      "Epoch 118/500\n",
      "18/18 [==============================] - 0s 1ms/step - loss: 9.6673 - mae: 2.2779 - val_loss: 22.2828 - val_mae: 3.0246\n",
      "Epoch 119/500\n",
      "18/18 [==============================] - 0s 1ms/step - loss: 9.6178 - mae: 2.2734 - val_loss: 22.0490 - val_mae: 3.0119\n",
      "Epoch 120/500\n",
      "18/18 [==============================] - 0s 1ms/step - loss: 9.5887 - mae: 2.2852 - val_loss: 21.9161 - val_mae: 3.0096\n",
      "Epoch 121/500\n",
      "18/18 [==============================] - 0s 1ms/step - loss: 9.5117 - mae: 2.2669 - val_loss: 21.7843 - val_mae: 2.9882\n",
      "Epoch 122/500\n",
      "18/18 [==============================] - 0s 1ms/step - loss: 9.5403 - mae: 2.2579 - val_loss: 21.8725 - val_mae: 2.9835\n",
      "Epoch 123/500\n",
      "18/18 [==============================] - 0s 1ms/step - loss: 9.3728 - mae: 2.2414 - val_loss: 21.6416 - val_mae: 2.9815\n",
      "Epoch 124/500\n",
      "18/18 [==============================] - 0s 1ms/step - loss: 9.3884 - mae: 2.2540 - val_loss: 21.5643 - val_mae: 2.9968\n",
      "Epoch 125/500\n",
      "18/18 [==============================] - 0s 1ms/step - loss: 9.3338 - mae: 2.2366 - val_loss: 21.5025 - val_mae: 2.9777\n",
      "Epoch 126/500\n",
      "18/18 [==============================] - 0s 1ms/step - loss: 9.2598 - mae: 2.2356 - val_loss: 21.4624 - val_mae: 2.9792\n",
      "Epoch 127/500\n",
      "18/18 [==============================] - 0s 1ms/step - loss: 9.2200 - mae: 2.2331 - val_loss: 21.3269 - val_mae: 2.9701\n",
      "Epoch 128/500\n",
      "18/18 [==============================] - 0s 1ms/step - loss: 9.1869 - mae: 2.2196 - val_loss: 21.2428 - val_mae: 2.9634\n",
      "Epoch 129/500\n",
      "18/18 [==============================] - 0s 1ms/step - loss: 9.1307 - mae: 2.2272 - val_loss: 21.1609 - val_mae: 2.9635\n",
      "Epoch 130/500\n",
      "18/18 [==============================] - 0s 1ms/step - loss: 9.0691 - mae: 2.2034 - val_loss: 21.2134 - val_mae: 2.9433\n",
      "Epoch 131/500\n",
      "18/18 [==============================] - 0s 1ms/step - loss: 9.0202 - mae: 2.1942 - val_loss: 21.1200 - val_mae: 2.9509\n",
      "Epoch 132/500\n",
      "18/18 [==============================] - 0s 1ms/step - loss: 8.9313 - mae: 2.1890 - val_loss: 21.1104 - val_mae: 2.9557\n",
      "Epoch 133/500\n",
      "18/18 [==============================] - 0s 3ms/step - loss: 8.8923 - mae: 2.1905 - val_loss: 21.0784 - val_mae: 2.9635\n",
      "Epoch 134/500\n",
      "18/18 [==============================] - 0s 2ms/step - loss: 8.8503 - mae: 2.1811 - val_loss: 20.9443 - val_mae: 2.9379\n",
      "Epoch 135/500\n",
      "18/18 [==============================] - 0s 1ms/step - loss: 8.7842 - mae: 2.1742 - val_loss: 20.8368 - val_mae: 2.9350\n",
      "Epoch 136/500\n",
      "18/18 [==============================] - 0s 1ms/step - loss: 8.7844 - mae: 2.1878 - val_loss: 20.7970 - val_mae: 2.9539\n",
      "Epoch 137/500\n",
      "18/18 [==============================] - 0s 1ms/step - loss: 8.7038 - mae: 2.1664 - val_loss: 20.7214 - val_mae: 2.9200\n",
      "Epoch 138/500\n",
      "18/18 [==============================] - 0s 1ms/step - loss: 8.6808 - mae: 2.1594 - val_loss: 20.5839 - val_mae: 2.9218\n",
      "Epoch 139/500\n",
      "18/18 [==============================] - 0s 1ms/step - loss: 8.6985 - mae: 2.1703 - val_loss: 20.6220 - val_mae: 2.9345\n",
      "Epoch 140/500\n",
      "18/18 [==============================] - 0s 1ms/step - loss: 8.5795 - mae: 2.1481 - val_loss: 20.3595 - val_mae: 2.8864\n",
      "Epoch 141/500\n",
      "18/18 [==============================] - 0s 1ms/step - loss: 8.5005 - mae: 2.1315 - val_loss: 20.3382 - val_mae: 2.8927\n",
      "Epoch 142/500\n",
      "18/18 [==============================] - 0s 2ms/step - loss: 8.4665 - mae: 2.1337 - val_loss: 20.2711 - val_mae: 2.9004\n",
      "Epoch 143/500\n",
      "18/18 [==============================] - 0s 2ms/step - loss: 8.4253 - mae: 2.1302 - val_loss: 20.2455 - val_mae: 2.8944\n",
      "Epoch 144/500\n",
      "18/18 [==============================] - 0s 1ms/step - loss: 8.3948 - mae: 2.1224 - val_loss: 20.0450 - val_mae: 2.8792\n",
      "Epoch 145/500\n",
      "18/18 [==============================] - 0s 1ms/step - loss: 8.3362 - mae: 2.1185 - val_loss: 20.1998 - val_mae: 2.9094\n",
      "Epoch 146/500\n",
      "18/18 [==============================] - 0s 1ms/step - loss: 8.3044 - mae: 2.1235 - val_loss: 19.8962 - val_mae: 2.8844\n",
      "Epoch 147/500\n",
      "18/18 [==============================] - 0s 1ms/step - loss: 8.2433 - mae: 2.1084 - val_loss: 19.8760 - val_mae: 2.8775\n",
      "Epoch 148/500\n",
      "18/18 [==============================] - 0s 1ms/step - loss: 8.2075 - mae: 2.1021 - val_loss: 19.7647 - val_mae: 2.8624\n",
      "Epoch 149/500\n",
      "18/18 [==============================] - 0s 1ms/step - loss: 8.1502 - mae: 2.1009 - val_loss: 19.5858 - val_mae: 2.8660\n",
      "Epoch 150/500\n",
      "18/18 [==============================] - 0s 1ms/step - loss: 8.0793 - mae: 2.0929 - val_loss: 19.6324 - val_mae: 2.8653\n",
      "Epoch 151/500\n",
      "18/18 [==============================] - 0s 1ms/step - loss: 8.0782 - mae: 2.0945 - val_loss: 19.6146 - val_mae: 2.8816\n",
      "Epoch 152/500\n",
      "18/18 [==============================] - 0s 1ms/step - loss: 8.0260 - mae: 2.0822 - val_loss: 19.5204 - val_mae: 2.8469\n",
      "Epoch 153/500\n",
      "18/18 [==============================] - 0s 2ms/step - loss: 7.9786 - mae: 2.0726 - val_loss: 19.3887 - val_mae: 2.8398\n",
      "Epoch 154/500\n",
      "18/18 [==============================] - 0s 2ms/step - loss: 7.9900 - mae: 2.0827 - val_loss: 19.3374 - val_mae: 2.8516\n",
      "Epoch 155/500\n",
      "18/18 [==============================] - 0s 1ms/step - loss: 7.8932 - mae: 2.0698 - val_loss: 19.1631 - val_mae: 2.8140\n",
      "Epoch 156/500\n",
      "18/18 [==============================] - 0s 1ms/step - loss: 7.8536 - mae: 2.0567 - val_loss: 19.1830 - val_mae: 2.8257\n",
      "Epoch 157/500\n",
      "18/18 [==============================] - 0s 1ms/step - loss: 7.8031 - mae: 2.0587 - val_loss: 19.1200 - val_mae: 2.8362\n",
      "Epoch 158/500\n",
      "18/18 [==============================] - 0s 1ms/step - loss: 7.8006 - mae: 2.0578 - val_loss: 19.0330 - val_mae: 2.8156\n",
      "Epoch 159/500\n",
      "18/18 [==============================] - 0s 1ms/step - loss: 7.7313 - mae: 2.0500 - val_loss: 18.9605 - val_mae: 2.8334\n",
      "Epoch 160/500\n",
      "18/18 [==============================] - 0s 1ms/step - loss: 7.7365 - mae: 2.0570 - val_loss: 18.8398 - val_mae: 2.8194\n",
      "Epoch 161/500\n",
      "18/18 [==============================] - 0s 1ms/step - loss: 7.7225 - mae: 2.0640 - val_loss: 18.8471 - val_mae: 2.8341\n",
      "Epoch 162/500\n",
      "18/18 [==============================] - 0s 1ms/step - loss: 7.6988 - mae: 2.0485 - val_loss: 18.6603 - val_mae: 2.7955\n",
      "Epoch 163/500\n",
      "18/18 [==============================] - 0s 1ms/step - loss: 7.7427 - mae: 2.0530 - val_loss: 18.7766 - val_mae: 2.8279\n",
      "Epoch 164/500\n",
      "18/18 [==============================] - 0s 1ms/step - loss: 7.5788 - mae: 2.0264 - val_loss: 18.6519 - val_mae: 2.7931\n",
      "Epoch 165/500\n",
      "18/18 [==============================] - 0s 1ms/step - loss: 7.5594 - mae: 2.0328 - val_loss: 18.6503 - val_mae: 2.8162\n",
      "Epoch 166/500\n",
      "18/18 [==============================] - 0s 1ms/step - loss: 7.5026 - mae: 2.0293 - val_loss: 18.5736 - val_mae: 2.8093\n",
      "Epoch 167/500\n",
      "18/18 [==============================] - 0s 1ms/step - loss: 7.4730 - mae: 2.0185 - val_loss: 18.5162 - val_mae: 2.7917\n",
      "Epoch 168/500\n",
      "18/18 [==============================] - 0s 1ms/step - loss: 7.4774 - mae: 2.0195 - val_loss: 18.4719 - val_mae: 2.8005\n",
      "Epoch 169/500\n",
      "18/18 [==============================] - 0s 1ms/step - loss: 7.4282 - mae: 2.0186 - val_loss: 18.4257 - val_mae: 2.8091\n",
      "Epoch 170/500\n",
      "18/18 [==============================] - 0s 1ms/step - loss: 7.3725 - mae: 2.0097 - val_loss: 18.2759 - val_mae: 2.7747\n",
      "Epoch 171/500\n",
      "18/18 [==============================] - 0s 1ms/step - loss: 7.3609 - mae: 2.0076 - val_loss: 18.1825 - val_mae: 2.7608\n",
      "Epoch 172/500\n",
      "18/18 [==============================] - 0s 2ms/step - loss: 7.3339 - mae: 1.9968 - val_loss: 18.1992 - val_mae: 2.7736\n",
      "Epoch 173/500\n",
      "18/18 [==============================] - 0s 1ms/step - loss: 7.3217 - mae: 2.0010 - val_loss: 18.2078 - val_mae: 2.7894\n",
      "Epoch 174/500\n",
      "18/18 [==============================] - 0s 1ms/step - loss: 7.2901 - mae: 2.0020 - val_loss: 18.1422 - val_mae: 2.7814\n",
      "Epoch 175/500\n",
      "18/18 [==============================] - 0s 2ms/step - loss: 7.2973 - mae: 1.9916 - val_loss: 18.0556 - val_mae: 2.7554\n",
      "Epoch 176/500\n",
      "18/18 [==============================] - 0s 1ms/step - loss: 7.2844 - mae: 2.0027 - val_loss: 17.9148 - val_mae: 2.7666\n",
      "Epoch 177/500\n",
      "18/18 [==============================] - 0s 2ms/step - loss: 7.3057 - mae: 2.0005 - val_loss: 17.9502 - val_mae: 2.7547\n",
      "Epoch 178/500\n",
      "18/18 [==============================] - 0s 1ms/step - loss: 7.1923 - mae: 1.9873 - val_loss: 17.8966 - val_mae: 2.7635\n",
      "Epoch 179/500\n",
      "18/18 [==============================] - 0s 1ms/step - loss: 7.1674 - mae: 1.9880 - val_loss: 17.8718 - val_mae: 2.7514\n",
      "Epoch 180/500\n",
      "18/18 [==============================] - 0s 2ms/step - loss: 7.1066 - mae: 1.9848 - val_loss: 17.7462 - val_mae: 2.7481\n",
      "Epoch 181/500\n",
      "18/18 [==============================] - 0s 1ms/step - loss: 7.1414 - mae: 1.9853 - val_loss: 17.7142 - val_mae: 2.7320\n",
      "Epoch 182/500\n",
      "18/18 [==============================] - 0s 1ms/step - loss: 7.0711 - mae: 1.9691 - val_loss: 17.7637 - val_mae: 2.7634\n",
      "Epoch 183/500\n",
      "18/18 [==============================] - 0s 1ms/step - loss: 7.0592 - mae: 1.9728 - val_loss: 17.6344 - val_mae: 2.7480\n",
      "Epoch 184/500\n",
      "18/18 [==============================] - 0s 1ms/step - loss: 7.0437 - mae: 1.9672 - val_loss: 17.5844 - val_mae: 2.7347\n",
      "Epoch 185/500\n",
      "18/18 [==============================] - 0s 1ms/step - loss: 6.9997 - mae: 1.9625 - val_loss: 17.6551 - val_mae: 2.7619\n",
      "Epoch 186/500\n",
      "18/18 [==============================] - 0s 1ms/step - loss: 7.0586 - mae: 1.9848 - val_loss: 17.5615 - val_mae: 2.7547\n",
      "Epoch 187/500\n",
      "18/18 [==============================] - 0s 1ms/step - loss: 6.9645 - mae: 1.9591 - val_loss: 17.5910 - val_mae: 2.7385\n",
      "Epoch 188/500\n",
      "18/18 [==============================] - 0s 1ms/step - loss: 6.9288 - mae: 1.9500 - val_loss: 17.3131 - val_mae: 2.6966\n",
      "Epoch 189/500\n",
      "18/18 [==============================] - 0s 3ms/step - loss: 6.8973 - mae: 1.9563 - val_loss: 17.3868 - val_mae: 2.7346\n",
      "Epoch 190/500\n",
      "18/18 [==============================] - 0s 3ms/step - loss: 6.8753 - mae: 1.9452 - val_loss: 17.4420 - val_mae: 2.7449\n",
      "Epoch 191/500\n",
      "18/18 [==============================] - 0s 3ms/step - loss: 6.8504 - mae: 1.9438 - val_loss: 17.2924 - val_mae: 2.7231\n",
      "Epoch 192/500\n",
      "18/18 [==============================] - 0s 3ms/step - loss: 6.8167 - mae: 1.9420 - val_loss: 17.2590 - val_mae: 2.7151\n",
      "Epoch 193/500\n",
      "18/18 [==============================] - 0s 2ms/step - loss: 6.7962 - mae: 1.9381 - val_loss: 17.1830 - val_mae: 2.7066\n",
      "Epoch 194/500\n",
      "18/18 [==============================] - 0s 2ms/step - loss: 6.7991 - mae: 1.9370 - val_loss: 17.1320 - val_mae: 2.6980\n",
      "Epoch 195/500\n",
      "18/18 [==============================] - 0s 2ms/step - loss: 6.7413 - mae: 1.9327 - val_loss: 17.2170 - val_mae: 2.7304\n",
      "Epoch 196/500\n",
      "18/18 [==============================] - 0s 1ms/step - loss: 6.7666 - mae: 1.9395 - val_loss: 17.0963 - val_mae: 2.7156\n",
      "Epoch 197/500\n",
      "18/18 [==============================] - 0s 1ms/step - loss: 6.7010 - mae: 1.9285 - val_loss: 17.0134 - val_mae: 2.6993\n",
      "Epoch 198/500\n",
      "18/18 [==============================] - 0s 1ms/step - loss: 6.7035 - mae: 1.9263 - val_loss: 16.9796 - val_mae: 2.6928\n",
      "Epoch 199/500\n",
      "18/18 [==============================] - 0s 1ms/step - loss: 6.7233 - mae: 1.9349 - val_loss: 16.8856 - val_mae: 2.6756\n",
      "Epoch 200/500\n",
      "18/18 [==============================] - 0s 1ms/step - loss: 6.6866 - mae: 1.9328 - val_loss: 17.0254 - val_mae: 2.7252\n",
      "Epoch 201/500\n",
      "18/18 [==============================] - 0s 1ms/step - loss: 6.7066 - mae: 1.9233 - val_loss: 16.7366 - val_mae: 2.6550\n",
      "Epoch 202/500\n",
      "18/18 [==============================] - 0s 1ms/step - loss: 6.6046 - mae: 1.9110 - val_loss: 16.7448 - val_mae: 2.6743\n",
      "Epoch 203/500\n",
      "18/18 [==============================] - 0s 1ms/step - loss: 6.5925 - mae: 1.9127 - val_loss: 16.8500 - val_mae: 2.6975\n",
      "Epoch 204/500\n",
      "18/18 [==============================] - 0s 1ms/step - loss: 6.5863 - mae: 1.9057 - val_loss: 16.7342 - val_mae: 2.6612\n",
      "Epoch 205/500\n",
      "18/18 [==============================] - 0s 1ms/step - loss: 6.6372 - mae: 1.9219 - val_loss: 16.7580 - val_mae: 2.6937\n",
      "Epoch 206/500\n",
      "18/18 [==============================] - 0s 3ms/step - loss: 6.5708 - mae: 1.9014 - val_loss: 16.6459 - val_mae: 2.6481\n",
      "Epoch 207/500\n",
      "18/18 [==============================] - 0s 1ms/step - loss: 6.5251 - mae: 1.9041 - val_loss: 16.5960 - val_mae: 2.6729\n",
      "Epoch 208/500\n",
      "18/18 [==============================] - 0s 1ms/step - loss: 6.4869 - mae: 1.9007 - val_loss: 16.5559 - val_mae: 2.6724\n",
      "Epoch 209/500\n",
      "18/18 [==============================] - 0s 1ms/step - loss: 6.4951 - mae: 1.8952 - val_loss: 16.5492 - val_mae: 2.6672\n",
      "Epoch 210/500\n",
      "18/18 [==============================] - 0s 1ms/step - loss: 6.4423 - mae: 1.8954 - val_loss: 16.4121 - val_mae: 2.6373\n",
      "Epoch 211/500\n",
      "18/18 [==============================] - 0s 1ms/step - loss: 6.4365 - mae: 1.8961 - val_loss: 16.3956 - val_mae: 2.6397\n",
      "Epoch 212/500\n",
      "18/18 [==============================] - 0s 1ms/step - loss: 6.4318 - mae: 1.8929 - val_loss: 16.3508 - val_mae: 2.6428\n",
      "Epoch 213/500\n",
      "18/18 [==============================] - 0s 1ms/step - loss: 6.3851 - mae: 1.8881 - val_loss: 16.3284 - val_mae: 2.6281\n",
      "Epoch 214/500\n",
      "18/18 [==============================] - 0s 1ms/step - loss: 6.3908 - mae: 1.8903 - val_loss: 16.2521 - val_mae: 2.6340\n",
      "Epoch 215/500\n",
      "18/18 [==============================] - 0s 1ms/step - loss: 6.3678 - mae: 1.8841 - val_loss: 16.3291 - val_mae: 2.6437\n",
      "Epoch 216/500\n",
      "18/18 [==============================] - 0s 1ms/step - loss: 6.3402 - mae: 1.8782 - val_loss: 16.2693 - val_mae: 2.6306\n",
      "Epoch 217/500\n",
      "18/18 [==============================] - 0s 1ms/step - loss: 6.4243 - mae: 1.8778 - val_loss: 16.4693 - val_mae: 2.6426\n",
      "Epoch 218/500\n",
      "18/18 [==============================] - 0s 1ms/step - loss: 6.2933 - mae: 1.8725 - val_loss: 16.2303 - val_mae: 2.6435\n",
      "Epoch 219/500\n",
      "18/18 [==============================] - 0s 1ms/step - loss: 6.2934 - mae: 1.8893 - val_loss: 16.1322 - val_mae: 2.6222\n",
      "Epoch 220/500\n",
      "18/18 [==============================] - 0s 1ms/step - loss: 6.2909 - mae: 1.8858 - val_loss: 16.2039 - val_mae: 2.6387\n",
      "Epoch 221/500\n",
      "18/18 [==============================] - 0s 1ms/step - loss: 6.2607 - mae: 1.8675 - val_loss: 16.2626 - val_mae: 2.6490\n",
      "Epoch 222/500\n",
      "18/18 [==============================] - 0s 1ms/step - loss: 6.3003 - mae: 1.8740 - val_loss: 16.1231 - val_mae: 2.6243\n",
      "Epoch 223/500\n",
      "18/18 [==============================] - 0s 1ms/step - loss: 6.3288 - mae: 1.8751 - val_loss: 16.1694 - val_mae: 2.6223\n",
      "Epoch 224/500\n",
      "18/18 [==============================] - 0s 2ms/step - loss: 6.3451 - mae: 1.8829 - val_loss: 16.1264 - val_mae: 2.6458\n",
      "Epoch 225/500\n",
      "18/18 [==============================] - 0s 1ms/step - loss: 6.1780 - mae: 1.8613 - val_loss: 16.0394 - val_mae: 2.5917\n",
      "Epoch 226/500\n",
      "18/18 [==============================] - 0s 1ms/step - loss: 6.2018 - mae: 1.8608 - val_loss: 16.1254 - val_mae: 2.6146\n",
      "Epoch 227/500\n",
      "18/18 [==============================] - 0s 1ms/step - loss: 6.2786 - mae: 1.8810 - val_loss: 16.0123 - val_mae: 2.6280\n",
      "Epoch 228/500\n",
      "18/18 [==============================] - 0s 1ms/step - loss: 6.1124 - mae: 1.8564 - val_loss: 16.0268 - val_mae: 2.6019\n",
      "Epoch 229/500\n",
      "18/18 [==============================] - 0s 1ms/step - loss: 6.1377 - mae: 1.8511 - val_loss: 16.0289 - val_mae: 2.6109\n",
      "Epoch 230/500\n",
      "18/18 [==============================] - 0s 1ms/step - loss: 6.1293 - mae: 1.8518 - val_loss: 15.9882 - val_mae: 2.6229\n",
      "Epoch 231/500\n",
      "18/18 [==============================] - 0s 1ms/step - loss: 6.1280 - mae: 1.8506 - val_loss: 16.0279 - val_mae: 2.6259\n",
      "Epoch 232/500\n",
      "18/18 [==============================] - 0s 1ms/step - loss: 6.0987 - mae: 1.8460 - val_loss: 15.9145 - val_mae: 2.5921\n",
      "Epoch 233/500\n",
      "18/18 [==============================] - 0s 1ms/step - loss: 6.1157 - mae: 1.8525 - val_loss: 15.8102 - val_mae: 2.5918\n",
      "Epoch 234/500\n",
      "18/18 [==============================] - 0s 1ms/step - loss: 6.0706 - mae: 1.8483 - val_loss: 15.8853 - val_mae: 2.5906\n",
      "Epoch 235/500\n",
      "18/18 [==============================] - 0s 1ms/step - loss: 6.0881 - mae: 1.8510 - val_loss: 15.9548 - val_mae: 2.6129\n",
      "Epoch 236/500\n",
      "18/18 [==============================] - 0s 1ms/step - loss: 6.0789 - mae: 1.8383 - val_loss: 15.8856 - val_mae: 2.5984\n",
      "Epoch 237/500\n",
      "18/18 [==============================] - 0s 1ms/step - loss: 6.0258 - mae: 1.8402 - val_loss: 15.9386 - val_mae: 2.6158\n",
      "Epoch 238/500\n",
      "18/18 [==============================] - 0s 1ms/step - loss: 6.0206 - mae: 1.8461 - val_loss: 15.7844 - val_mae: 2.5925\n",
      "Epoch 239/500\n",
      "18/18 [==============================] - 0s 1ms/step - loss: 5.9915 - mae: 1.8364 - val_loss: 15.8045 - val_mae: 2.6028\n",
      "Epoch 240/500\n",
      "18/18 [==============================] - 0s 2ms/step - loss: 5.9541 - mae: 1.8255 - val_loss: 15.7687 - val_mae: 2.5964\n",
      "Epoch 241/500\n",
      "18/18 [==============================] - 0s 2ms/step - loss: 5.9488 - mae: 1.8311 - val_loss: 15.6594 - val_mae: 2.5716\n",
      "Epoch 242/500\n",
      "18/18 [==============================] - 0s 2ms/step - loss: 5.9782 - mae: 1.8404 - val_loss: 15.6403 - val_mae: 2.5736\n",
      "Epoch 243/500\n",
      "18/18 [==============================] - 0s 1ms/step - loss: 5.9379 - mae: 1.8231 - val_loss: 15.7507 - val_mae: 2.5925\n",
      "Epoch 244/500\n",
      "18/18 [==============================] - 0s 1ms/step - loss: 5.9205 - mae: 1.8157 - val_loss: 15.7094 - val_mae: 2.5907\n",
      "Epoch 245/500\n",
      "18/18 [==============================] - 0s 1ms/step - loss: 5.9089 - mae: 1.8237 - val_loss: 15.6421 - val_mae: 2.5741\n",
      "Epoch 246/500\n",
      "18/18 [==============================] - 0s 1ms/step - loss: 5.8860 - mae: 1.8210 - val_loss: 15.5774 - val_mae: 2.5635\n",
      "Epoch 247/500\n",
      "18/18 [==============================] - 0s 1ms/step - loss: 5.8673 - mae: 1.8118 - val_loss: 15.5580 - val_mae: 2.5646\n",
      "Epoch 248/500\n",
      "18/18 [==============================] - 0s 1ms/step - loss: 5.8405 - mae: 1.8118 - val_loss: 15.6009 - val_mae: 2.5606\n",
      "Epoch 249/500\n",
      "18/18 [==============================] - 0s 1ms/step - loss: 5.8409 - mae: 1.8114 - val_loss: 15.6639 - val_mae: 2.5818\n",
      "Epoch 250/500\n",
      "18/18 [==============================] - 0s 1ms/step - loss: 5.8428 - mae: 1.8116 - val_loss: 15.6083 - val_mae: 2.5663\n",
      "Epoch 251/500\n",
      "18/18 [==============================] - 0s 1ms/step - loss: 5.8045 - mae: 1.8072 - val_loss: 15.6789 - val_mae: 2.5885\n",
      "Epoch 252/500\n",
      "18/18 [==============================] - 0s 1ms/step - loss: 5.7895 - mae: 1.8040 - val_loss: 15.6166 - val_mae: 2.5659\n",
      "Epoch 253/500\n",
      "18/18 [==============================] - 0s 1ms/step - loss: 5.7885 - mae: 1.7982 - val_loss: 15.6135 - val_mae: 2.5599\n",
      "Epoch 254/500\n",
      "18/18 [==============================] - 0s 1ms/step - loss: 5.7790 - mae: 1.8043 - val_loss: 15.5993 - val_mae: 2.5736\n",
      "Epoch 255/500\n",
      "18/18 [==============================] - 0s 2ms/step - loss: 5.7527 - mae: 1.7919 - val_loss: 15.6842 - val_mae: 2.5646\n",
      "Epoch 256/500\n",
      "18/18 [==============================] - 0s 2ms/step - loss: 5.7349 - mae: 1.7958 - val_loss: 15.5592 - val_mae: 2.5496\n",
      "Epoch 257/500\n",
      "18/18 [==============================] - 0s 2ms/step - loss: 5.6797 - mae: 1.7870 - val_loss: 15.6620 - val_mae: 2.5779\n",
      "Epoch 258/500\n",
      "18/18 [==============================] - 0s 2ms/step - loss: 5.6879 - mae: 1.7852 - val_loss: 15.4853 - val_mae: 2.5407\n",
      "Epoch 259/500\n",
      "18/18 [==============================] - 0s 2ms/step - loss: 5.6820 - mae: 1.7829 - val_loss: 15.5660 - val_mae: 2.5501\n",
      "Epoch 260/500\n",
      "18/18 [==============================] - 0s 1ms/step - loss: 5.7228 - mae: 1.8040 - val_loss: 15.5846 - val_mae: 2.5576\n",
      "Epoch 261/500\n",
      "18/18 [==============================] - 0s 1ms/step - loss: 5.6465 - mae: 1.7813 - val_loss: 15.6688 - val_mae: 2.5762\n",
      "Epoch 262/500\n",
      "18/18 [==============================] - 0s 1ms/step - loss: 5.6255 - mae: 1.7731 - val_loss: 15.5935 - val_mae: 2.5517\n",
      "Epoch 263/500\n",
      "18/18 [==============================] - 0s 1ms/step - loss: 5.6518 - mae: 1.7796 - val_loss: 15.4970 - val_mae: 2.5344\n",
      "Epoch 264/500\n",
      "18/18 [==============================] - 0s 1ms/step - loss: 5.5858 - mae: 1.7738 - val_loss: 15.4957 - val_mae: 2.5454\n",
      "Epoch 265/500\n",
      "18/18 [==============================] - 0s 1ms/step - loss: 5.5930 - mae: 1.7648 - val_loss: 15.5849 - val_mae: 2.5608\n",
      "Epoch 266/500\n",
      "18/18 [==============================] - 0s 1ms/step - loss: 5.5918 - mae: 1.7653 - val_loss: 15.6082 - val_mae: 2.5552\n",
      "Epoch 267/500\n",
      "18/18 [==============================] - 0s 1ms/step - loss: 5.5824 - mae: 1.7655 - val_loss: 15.5737 - val_mae: 2.5455\n",
      "Epoch 268/500\n",
      "18/18 [==============================] - 0s 2ms/step - loss: 5.5556 - mae: 1.7667 - val_loss: 15.5115 - val_mae: 2.5262\n",
      "Epoch 269/500\n",
      "18/18 [==============================] - 0s 2ms/step - loss: 5.6497 - mae: 1.7884 - val_loss: 15.4873 - val_mae: 2.5331\n",
      "Epoch 270/500\n",
      "18/18 [==============================] - 0s 3ms/step - loss: 5.5440 - mae: 1.7588 - val_loss: 15.5715 - val_mae: 2.5483\n",
      "Epoch 271/500\n",
      "18/18 [==============================] - 0s 1ms/step - loss: 5.5283 - mae: 1.7564 - val_loss: 15.4619 - val_mae: 2.5266\n",
      "Epoch 272/500\n",
      "18/18 [==============================] - 0s 1ms/step - loss: 5.5205 - mae: 1.7609 - val_loss: 15.5761 - val_mae: 2.5395\n",
      "Epoch 273/500\n",
      "18/18 [==============================] - 0s 1ms/step - loss: 5.5126 - mae: 1.7584 - val_loss: 15.5602 - val_mae: 2.5582\n",
      "Epoch 274/500\n",
      "18/18 [==============================] - 0s 1ms/step - loss: 5.5016 - mae: 1.7561 - val_loss: 15.5808 - val_mae: 2.5396\n",
      "Epoch 275/500\n",
      "18/18 [==============================] - 0s 1ms/step - loss: 5.4694 - mae: 1.7486 - val_loss: 15.5678 - val_mae: 2.5550\n",
      "Epoch 276/500\n",
      "18/18 [==============================] - 0s 1ms/step - loss: 5.4677 - mae: 1.7496 - val_loss: 15.5331 - val_mae: 2.5386\n",
      "Epoch 277/500\n",
      "18/18 [==============================] - 0s 1ms/step - loss: 5.4719 - mae: 1.7447 - val_loss: 15.5789 - val_mae: 2.5386\n",
      "Epoch 278/500\n",
      "18/18 [==============================] - 0s 1ms/step - loss: 5.4271 - mae: 1.7432 - val_loss: 15.5483 - val_mae: 2.5468\n",
      "Epoch 279/500\n",
      "18/18 [==============================] - 0s 1ms/step - loss: 5.5016 - mae: 1.7668 - val_loss: 15.4373 - val_mae: 2.5259\n",
      "Epoch 280/500\n",
      "18/18 [==============================] - 0s 1ms/step - loss: 5.4140 - mae: 1.7442 - val_loss: 15.5205 - val_mae: 2.5346\n",
      "Epoch 281/500\n",
      "18/18 [==============================] - 0s 1ms/step - loss: 5.4106 - mae: 1.7371 - val_loss: 15.5471 - val_mae: 2.5346\n",
      "Epoch 282/500\n",
      "18/18 [==============================] - 0s 1ms/step - loss: 5.3729 - mae: 1.7344 - val_loss: 15.4880 - val_mae: 2.5376\n",
      "Epoch 283/500\n",
      "18/18 [==============================] - 0s 1ms/step - loss: 5.4055 - mae: 1.7466 - val_loss: 15.5259 - val_mae: 2.5357\n",
      "Epoch 284/500\n",
      "18/18 [==============================] - 0s 1ms/step - loss: 5.3720 - mae: 1.7373 - val_loss: 15.4708 - val_mae: 2.5293\n",
      "Epoch 285/500\n",
      "18/18 [==============================] - 0s 2ms/step - loss: 5.4023 - mae: 1.7512 - val_loss: 15.3780 - val_mae: 2.5110\n",
      "Epoch 286/500\n",
      "18/18 [==============================] - 0s 1ms/step - loss: 5.3465 - mae: 1.7332 - val_loss: 15.5272 - val_mae: 2.5410\n",
      "Epoch 287/500\n",
      "18/18 [==============================] - 0s 1ms/step - loss: 5.3476 - mae: 1.7277 - val_loss: 15.4838 - val_mae: 2.5264\n",
      "Epoch 288/500\n",
      "18/18 [==============================] - 0s 2ms/step - loss: 5.3464 - mae: 1.7299 - val_loss: 15.4909 - val_mae: 2.5286\n",
      "Epoch 289/500\n",
      "18/18 [==============================] - 0s 2ms/step - loss: 5.3555 - mae: 1.7336 - val_loss: 15.5544 - val_mae: 2.5297\n",
      "Epoch 290/500\n",
      "18/18 [==============================] - 0s 1ms/step - loss: 5.3238 - mae: 1.7263 - val_loss: 15.5365 - val_mae: 2.5352\n",
      "Epoch 291/500\n",
      "18/18 [==============================] - 0s 1ms/step - loss: 5.3336 - mae: 1.7286 - val_loss: 15.4647 - val_mae: 2.5225\n",
      "Epoch 292/500\n",
      "18/18 [==============================] - 0s 2ms/step - loss: 5.3239 - mae: 1.7272 - val_loss: 15.4051 - val_mae: 2.5089\n",
      "Epoch 293/500\n",
      "18/18 [==============================] - 0s 1ms/step - loss: 5.3282 - mae: 1.7231 - val_loss: 15.5898 - val_mae: 2.5508\n",
      "Epoch 294/500\n",
      "18/18 [==============================] - 0s 1ms/step - loss: 5.2841 - mae: 1.7226 - val_loss: 15.4071 - val_mae: 2.5088\n",
      "Epoch 295/500\n",
      "18/18 [==============================] - 0s 1ms/step - loss: 5.2918 - mae: 1.7309 - val_loss: 15.3960 - val_mae: 2.5112\n",
      "Epoch 296/500\n",
      "18/18 [==============================] - 0s 1ms/step - loss: 5.2683 - mae: 1.7203 - val_loss: 15.3718 - val_mae: 2.5142\n",
      "Epoch 297/500\n",
      "18/18 [==============================] - 0s 1ms/step - loss: 5.2645 - mae: 1.7220 - val_loss: 15.3721 - val_mae: 2.5089\n",
      "Epoch 298/500\n",
      "18/18 [==============================] - 0s 1ms/step - loss: 5.2521 - mae: 1.7153 - val_loss: 15.4189 - val_mae: 2.5198\n",
      "Epoch 299/500\n",
      "18/18 [==============================] - 0s 1ms/step - loss: 5.2537 - mae: 1.7252 - val_loss: 15.3756 - val_mae: 2.5029\n",
      "Epoch 300/500\n",
      "18/18 [==============================] - 0s 1ms/step - loss: 5.2380 - mae: 1.7157 - val_loss: 15.4047 - val_mae: 2.5196\n",
      "Epoch 301/500\n",
      "18/18 [==============================] - 0s 2ms/step - loss: 5.2487 - mae: 1.7192 - val_loss: 15.4272 - val_mae: 2.5156\n",
      "Epoch 302/500\n",
      "18/18 [==============================] - 0s 1ms/step - loss: 5.3059 - mae: 1.7324 - val_loss: 15.4429 - val_mae: 2.5322\n",
      "Epoch 303/500\n",
      "18/18 [==============================] - 0s 2ms/step - loss: 5.3470 - mae: 1.7225 - val_loss: 15.3879 - val_mae: 2.4956\n",
      "Epoch 304/500\n",
      "18/18 [==============================] - 0s 1ms/step - loss: 5.3107 - mae: 1.7127 - val_loss: 15.4044 - val_mae: 2.5304\n",
      "Epoch 305/500\n",
      "18/18 [==============================] - 0s 1ms/step - loss: 5.2346 - mae: 1.7171 - val_loss: 15.3688 - val_mae: 2.5004\n",
      "Epoch 306/500\n",
      "18/18 [==============================] - 0s 1ms/step - loss: 5.1869 - mae: 1.7190 - val_loss: 15.4133 - val_mae: 2.5278\n",
      "Epoch 307/500\n",
      "18/18 [==============================] - 0s 1ms/step - loss: 5.1244 - mae: 1.6927 - val_loss: 15.4148 - val_mae: 2.5094\n",
      "Epoch 308/500\n",
      "18/18 [==============================] - 0s 1ms/step - loss: 5.2050 - mae: 1.7152 - val_loss: 15.4185 - val_mae: 2.5217\n",
      "Epoch 309/500\n",
      "18/18 [==============================] - 0s 1ms/step - loss: 5.1703 - mae: 1.6972 - val_loss: 15.3926 - val_mae: 2.5153\n",
      "Epoch 310/500\n",
      "18/18 [==============================] - 0s 1ms/step - loss: 5.1216 - mae: 1.7009 - val_loss: 15.3198 - val_mae: 2.5046\n",
      "Epoch 311/500\n",
      "18/18 [==============================] - 0s 1ms/step - loss: 5.1261 - mae: 1.6993 - val_loss: 15.4243 - val_mae: 2.5234\n",
      "Epoch 312/500\n",
      "18/18 [==============================] - 0s 1ms/step - loss: 5.1071 - mae: 1.6905 - val_loss: 15.4330 - val_mae: 2.5353\n",
      "Epoch 313/500\n",
      "18/18 [==============================] - 0s 1ms/step - loss: 5.0968 - mae: 1.6997 - val_loss: 15.2975 - val_mae: 2.5000\n",
      "Epoch 314/500\n",
      "18/18 [==============================] - 0s 1ms/step - loss: 5.0791 - mae: 1.6916 - val_loss: 15.4193 - val_mae: 2.5229\n",
      "Epoch 315/500\n",
      "18/18 [==============================] - 0s 2ms/step - loss: 5.0808 - mae: 1.6864 - val_loss: 15.3918 - val_mae: 2.5156\n",
      "Epoch 316/500\n",
      "18/18 [==============================] - 0s 2ms/step - loss: 5.0848 - mae: 1.6929 - val_loss: 15.3632 - val_mae: 2.5105\n",
      "Epoch 317/500\n",
      "18/18 [==============================] - 0s 1ms/step - loss: 5.0702 - mae: 1.6951 - val_loss: 15.3369 - val_mae: 2.5254\n",
      "Epoch 318/500\n",
      "18/18 [==============================] - 0s 1ms/step - loss: 5.0452 - mae: 1.6870 - val_loss: 15.4254 - val_mae: 2.5251\n",
      "Epoch 319/500\n",
      "18/18 [==============================] - 0s 1ms/step - loss: 5.0699 - mae: 1.6842 - val_loss: 15.3495 - val_mae: 2.4996\n",
      "Epoch 320/500\n",
      "18/18 [==============================] - 0s 1ms/step - loss: 5.1046 - mae: 1.6842 - val_loss: 15.3975 - val_mae: 2.5371\n",
      "Epoch 321/500\n",
      "18/18 [==============================] - 0s 1ms/step - loss: 5.0118 - mae: 1.6860 - val_loss: 15.2830 - val_mae: 2.4912\n",
      "Epoch 322/500\n",
      "18/18 [==============================] - 0s 1ms/step - loss: 5.0861 - mae: 1.7023 - val_loss: 15.3525 - val_mae: 2.5141\n",
      "Epoch 323/500\n",
      "18/18 [==============================] - 0s 1ms/step - loss: 5.0014 - mae: 1.6766 - val_loss: 15.4038 - val_mae: 2.5200\n",
      "Epoch 324/500\n",
      "18/18 [==============================] - 0s 1ms/step - loss: 5.0113 - mae: 1.6765 - val_loss: 15.4018 - val_mae: 2.5306\n",
      "Epoch 325/500\n",
      "18/18 [==============================] - 0s 1ms/step - loss: 5.0074 - mae: 1.6841 - val_loss: 15.2951 - val_mae: 2.5135\n",
      "Epoch 326/500\n",
      "18/18 [==============================] - 0s 1ms/step - loss: 4.9847 - mae: 1.6752 - val_loss: 15.3861 - val_mae: 2.5292\n",
      "Epoch 327/500\n",
      "18/18 [==============================] - 0s 1ms/step - loss: 4.9774 - mae: 1.6728 - val_loss: 15.2894 - val_mae: 2.4980\n",
      "Epoch 328/500\n",
      "18/18 [==============================] - 0s 1ms/step - loss: 5.0030 - mae: 1.6679 - val_loss: 15.3003 - val_mae: 2.5088\n",
      "Epoch 329/500\n",
      "18/18 [==============================] - 0s 1ms/step - loss: 4.9899 - mae: 1.6806 - val_loss: 15.3738 - val_mae: 2.5238\n",
      "Epoch 330/500\n",
      "18/18 [==============================] - 0s 1ms/step - loss: 4.9879 - mae: 1.6700 - val_loss: 15.4823 - val_mae: 2.5370\n",
      "Epoch 331/500\n",
      "18/18 [==============================] - 0s 3ms/step - loss: 4.9650 - mae: 1.6707 - val_loss: 15.3906 - val_mae: 2.5194\n",
      "Epoch 332/500\n",
      "18/18 [==============================] - 0s 1ms/step - loss: 4.9984 - mae: 1.6739 - val_loss: 15.4920 - val_mae: 2.5368\n",
      "Epoch 333/500\n",
      "18/18 [==============================] - 0s 1ms/step - loss: 4.9825 - mae: 1.6709 - val_loss: 15.3352 - val_mae: 2.5394\n",
      "Epoch 334/500\n",
      "18/18 [==============================] - 0s 1ms/step - loss: 4.9151 - mae: 1.6668 - val_loss: 15.2981 - val_mae: 2.5050\n",
      "Epoch 335/500\n",
      "18/18 [==============================] - 0s 1ms/step - loss: 4.9368 - mae: 1.6623 - val_loss: 15.4400 - val_mae: 2.5283\n",
      "Epoch 336/500\n",
      "18/18 [==============================] - 0s 1ms/step - loss: 4.9565 - mae: 1.6617 - val_loss: 15.3524 - val_mae: 2.5193\n",
      "Epoch 337/500\n",
      "18/18 [==============================] - 0s 1ms/step - loss: 4.9405 - mae: 1.6656 - val_loss: 15.3590 - val_mae: 2.5323\n",
      "Epoch 338/500\n",
      "18/18 [==============================] - 0s 1ms/step - loss: 4.9189 - mae: 1.6571 - val_loss: 15.4304 - val_mae: 2.5245\n",
      "Epoch 339/500\n",
      "18/18 [==============================] - 0s 1ms/step - loss: 4.8894 - mae: 1.6556 - val_loss: 15.3001 - val_mae: 2.5178\n",
      "Epoch 340/500\n",
      "18/18 [==============================] - 0s 1ms/step - loss: 4.9377 - mae: 1.6500 - val_loss: 15.4144 - val_mae: 2.5195\n",
      "Epoch 341/500\n",
      "18/18 [==============================] - 0s 2ms/step - loss: 4.9104 - mae: 1.6569 - val_loss: 15.3790 - val_mae: 2.5296\n",
      "the mean absolute error (mae) on the testing set: 2.85\n",
      "mean absolute error (mae) on the testing set for baseline model: 6.53\n",
      "improvement over the baseline model: 3.69\n"
     ]
    }
   ],
   "source": [
    "from sklearn.metrics import mean_absolute_error\n",
    "\n",
    "model = initialize_model(input_dim=13)\n",
    "\n",
    "compile_model(model, optimizer_name='adam')\n",
    "history = model.fit(\n",
    "    X_train_scaled,\n",
    "    y_train,\n",
    "    validation_split=0.3,\n",
    "    epochs=500,\n",
    "    batch_size=16,\n",
    "    verbose=1,\n",
    "    callbacks=[es]\n",
    ")\n",
    "\n",
    "results = model.evaluate(X_test_scaled, y_test, verbose=0)\n",
    "print(f'the mean absolute error (mae) on the testing set {results[1]:.2f}')\n",
    "\n",
    "mean_y_train = np.mean(y_train)\n",
    "baseline_predictions = np.full_like(y_test, mean_y_train)\n",
    "mean_absolute_error_test_baseline = mean_absolute_error(y_test, baseline_predictions)\n",
    "\n",
    "res = mean_absolute_error_test_baseline - results[1]\n",
    "\n",
    "print(f'mean absolute error (mae) on the testing set for baseline model {mean_absolute_error_test_baseline:.2f}')\n",
    "print(f'improvement over the baseline model {res:.2f}')\n"
   ]
  },
  {
   "attachments": {},
   "cell_type": "markdown",
   "metadata": {},
   "source": [
    "### Neural Network vs. Baseline\n",
    "\n",
    "Compare the MAE on the testing set between this Neural Network and the baseline model."
   ]
  },
  {
   "cell_type": "code",
   "execution_count": 39,
   "metadata": {},
   "outputs": [
    {
     "name": "stdout",
     "output_type": "stream",
     "text": [
      "The MAE on the test is 3.6866 for the Neural Network vs. 6.5330 for the baseline\n"
     ]
    }
   ],
   "source": [
    "mae_test_baseline = mean_absolute_error_test_baseline\n",
    "mae_test_neuralnet = res\n",
    "\n",
    "print(f\"The MAE on the test is {mae_test_neuralnet:.4f} for the Neural Network vs. {mae_test_baseline:.4f} for the baseline\")"
   ]
  },
  {
   "attachments": {},
   "cell_type": "markdown",
   "metadata": {},
   "source": [
    "### (2.1) Which Optimizer is the Best? "
   ]
  },
  {
   "attachments": {},
   "cell_type": "markdown",
   "metadata": {},
   "source": [
    "#### ❓Trying Different Optimizers\n",
    "\n",
    "Re-run the same model on the same data using different optimizers (in a `for` loop). \n",
    "\n",
    "For each optimizer:\n",
    "- 📉 Plot the history of the loss (MSE) and the metric (MAE)\n",
    "    - 🎁 We coded two functions: `plot_loss_mae` and `plot_loss_mse`. Which one should you use? Feel free to use it.\n",
    "- ✍️ Report the corresponding Mean Absolute Error\n",
    "- ⏳ Compute the time your Neural Net needed to fit the training set\n",
    "\n",
    "📚 [`tensorflow.keras.optimizers`](https://www.tensorflow.org/api_docs/python/tf/keras/optimizers)"
   ]
  },
  {
   "cell_type": "code",
   "execution_count": 40,
   "metadata": {},
   "outputs": [],
   "source": [
    "def plot_loss_mae(history):\n",
    "    # Setting figures\n",
    "    fig, (ax1, ax2) = plt.subplots(1,2, figsize=(13,4))\n",
    "\n",
    "    # Create the plots\n",
    "    ax1.plot(history.history['loss'])\n",
    "    ax1.plot(history.history['val_loss'])\n",
    "\n",
    "    ax2.plot(history.history['mae'])\n",
    "    ax2.plot(history.history['val_mae'])\n",
    "\n",
    "    # Set titles and labels\n",
    "    ax1.set_title('Model loss')\n",
    "    ax1.set_ylabel('Loss')\n",
    "    ax1.set_xlabel('Epoch')\n",
    "\n",
    "    ax2.set_title('MAE')\n",
    "    ax2.set_ylabel('MAE')\n",
    "    ax2.set_xlabel('Epoch')\n",
    "\n",
    "    # Set limits for y-axes\n",
    "    ax1.set_ylim(ymin=0, ymax=200)\n",
    "    ax2.set_ylim(ymin=0, ymax=20)\n",
    "\n",
    "    # Generate legends\n",
    "    ax1.legend(['Train', 'Validation'], loc='best')\n",
    "    ax2.legend(['Train', 'Validation'], loc='best')\n",
    "\n",
    "    # Show grids\n",
    "    ax1.grid(axis=\"x\",linewidth=0.5)\n",
    "    ax1.grid(axis=\"y\",linewidth=0.5)\n",
    "\n",
    "    ax2.grid(axis=\"x\",linewidth=0.5)\n",
    "    ax2.grid(axis=\"y\",linewidth=0.5)\n",
    "\n",
    "    plt.show() "
   ]
  },
  {
   "cell_type": "code",
   "execution_count": 41,
   "metadata": {},
   "outputs": [],
   "source": [
    "def plot_loss_mse(history):\n",
    "    # Setting figures\n",
    "    fig, (ax1, ax2) = plt.subplots(1,2, figsize=(13,4))\n",
    "\n",
    "    # Create the plots\n",
    "    ax1.plot(history.history['loss'])\n",
    "    ax1.plot(history.history['val_loss'])\n",
    "\n",
    "    ax2.plot(history.history['mse'])\n",
    "    ax2.plot(history.history['val_mse'])\n",
    "\n",
    "    # Set titles and labels\n",
    "    ax1.set_title('Model loss')\n",
    "    ax1.set_ylabel('Loss')\n",
    "    ax1.set_xlabel('Epoch')\n",
    "\n",
    "    ax2.set_title('MSE')\n",
    "    ax2.set_ylabel('MSE')\n",
    "    ax2.set_xlabel('Epoch')\n",
    "\n",
    "    # Set limits for y-axes\n",
    "    ax1.set_ylim(ymin=0, ymax=20)\n",
    "    ax2.set_ylim(ymin=0, ymax=200)\n",
    "\n",
    "    # Generate legends\n",
    "    ax1.legend(['Train', 'Validation'], loc='best')\n",
    "    ax2.legend(['Train', 'Validation'], loc='best')\n",
    "\n",
    "    # Show grids\n",
    "    ax1.grid(axis=\"x\",linewidth=0.5)\n",
    "    ax1.grid(axis=\"y\",linewidth=0.5)\n",
    "\n",
    "    ax2.grid(axis=\"x\",linewidth=0.5)\n",
    "    ax2.grid(axis=\"y\",linewidth=0.5)\n",
    "\n",
    "    plt.show()"
   ]
  },
  {
   "attachments": {},
   "cell_type": "markdown",
   "metadata": {},
   "source": [
    "#### Neural Network vs. Baseline - Part 2\n",
    "\n",
    "Are your predictions better than those of the baseline model you evaluated at the beginning of the notebook?"
   ]
  },
  {
   "cell_type": "code",
   "execution_count": 42,
   "metadata": {},
   "outputs": [
    {
     "name": "stdout",
     "output_type": "stream",
     "text": [
      "The MAE on the test set with the rmsprop optimizer is equal to 20.57\n",
      "The MAE on the test set with the adam optimizer is equal to 2.85\n",
      "-----\n",
      "The MAE on the test set with the baseline model is equal to 6.53\n"
     ]
    }
   ],
   "source": [
    "# MAE on the testing set for different optimizers\n",
    "for optimizer, result in zip(['rmsprop', 'adam', 'adagrad'], results):\n",
    "    print(f\"The MAE on the test set with the {optimizer} optimizer is equal to {result:.2f}\")\n",
    "\n",
    "# MAE on the testing set for the baseline model    \n",
    "print(\"-\"*5)    \n",
    "print(f\"The MAE on the test set with the baseline model is equal to {mae_test_baseline:.2f}\")"
   ]
  },
  {
   "attachments": {},
   "cell_type": "markdown",
   "metadata": {},
   "source": [
    "#### 💡Answer\n",
    "\n",
    "<details>\n",
    "    <summary>Click me</summary>\n",
    "\n",
    "You can see that the Neural Network beat the baseline when using either `adam` or `rmsprop` as an optimizer but the result was significantly worse with the `adagrad` optimizer.\n",
    "\n",
    "**👇 The advice from the Deep Learning community is the following 👇:**\n",
    "\n",
    "🔥 So far, our best-performing optimizer is `adam`. Maybe a mathematician specialized in numerical methods will find a better solver in the future but for the moment, Adam is your best friend and they have already been helping us achieve remarkable results.\n",
    "</details>"
   ]
  },
  {
   "attachments": {},
   "cell_type": "markdown",
   "metadata": {},
   "source": [
    "#### Next Steps for this Challenge\n",
    "\n",
    "👩‍🎓 Do you remember the **Machine Learning > 04.Under The Hood** unit where we coded our **Gradient Descent** by choosing a specific `learning_rate`? It represents how slow/fast your algorithm learns. In other words, it controls the intensity of the change of the weights at each optimization of the NN, at each backpropagation!\n",
    "\n",
    "🚀 Well, the **solvers** in Machine Learning and the **optimizers** in Deep Learning are advanced iterative methods relying on **hyperparameters**, and the `learning_rate` is one of them!\n",
    "\n",
    "🤔 How can I control this `learning_rate`?\n",
    "\n",
    "✅ Instead of calling an optimizer with a string (\"adam\", \"rmsprop\", etc.), which uses a default value for the Learning Rate, we will call 📚 [`tf.keras.optimizers`](https://www.tensorflow.org/api_docs/python/tf/keras/optimizers) objects 📚 and tailor them to our needs.\n",
    "\n",
    "🧑🏻‍🏫 Different Learning Rates have different consequences, as shown here: \n",
    "\n",
    "<img src=\"https://wagon-public-datasets.s3-eu-west-1.amazonaws.com/06-DL/02-Optimizer-loss-and-fitting/learning_rate.png\" alt=\"Learning rate\" height=300>"
   ]
  },
  {
   "attachments": {},
   "cell_type": "markdown",
   "metadata": {},
   "source": [
    "### (2.2) The Influence of the Learning Rate"
   ]
  },
  {
   "attachments": {},
   "cell_type": "markdown",
   "metadata": {},
   "source": [
    "### Selecting an Optimizer with a Custom Learning Rate\n",
    "\n",
    "📚 [`tf.keras.optimizers.Adam`](https://www.tensorflow.org/api_docs/python/tf/keras/optimizers/Adam)\n",
    "\n",
    "Instead of initializing the optimizer with a string, let's initialize an optimizer manually.\n",
    "\n",
    "- Instantiate an Adam optimizer with a Learning Rate of $ \\alpha = 0.1$\n",
    "    - Keep the other parameters at their default values\n",
    "- Use this optimizer in the `compile_model` function\n",
    "- Train/fit the model\n",
    "- Plot the history\n",
    "- Evaluate your model"
   ]
  },
  {
   "cell_type": "code",
   "execution_count": 45,
   "metadata": {},
   "outputs": [
    {
     "ename": "ValueError",
     "evalue": "in user code:\n\n    File \"/Users/reecepalmer/.pyenv/versions/3.10.6/envs/lewagon/lib/python3.10/site-packages/keras/engine/training.py\", line 1160, in train_function  *\n        return step_function(self, iterator)\n    File \"/Users/reecepalmer/.pyenv/versions/3.10.6/envs/lewagon/lib/python3.10/site-packages/keras/engine/training.py\", line 1146, in step_function  **\n        outputs = model.distribute_strategy.run(run_step, args=(data,))\n    File \"/Users/reecepalmer/.pyenv/versions/3.10.6/envs/lewagon/lib/python3.10/site-packages/keras/engine/training.py\", line 1135, in run_step  **\n        outputs = model.train_step(data)\n    File \"/Users/reecepalmer/.pyenv/versions/3.10.6/envs/lewagon/lib/python3.10/site-packages/keras/engine/training.py\", line 993, in train_step\n        y_pred = self(x, training=True)\n    File \"/Users/reecepalmer/.pyenv/versions/3.10.6/envs/lewagon/lib/python3.10/site-packages/keras/utils/traceback_utils.py\", line 70, in error_handler\n        raise e.with_traceback(filtered_tb) from None\n    File \"/Users/reecepalmer/.pyenv/versions/3.10.6/envs/lewagon/lib/python3.10/site-packages/keras/engine/input_spec.py\", line 295, in assert_input_compatibility\n        raise ValueError(\n\n    ValueError: Input 0 of layer \"sequential_9\" is incompatible with the layer: expected shape=(None, 10), found shape=(None, 13)\n",
     "output_type": "error",
     "traceback": [
      "\u001b[0;31m---------------------------------------------------------------------------\u001b[0m",
      "\u001b[0;31mValueError\u001b[0m                                Traceback (most recent call last)",
      "File \u001b[0;32m<timed exec>:18\u001b[0m\n",
      "File \u001b[0;32m~/.pyenv/versions/3.10.6/envs/lewagon/lib/python3.10/site-packages/keras/utils/traceback_utils.py:70\u001b[0m, in \u001b[0;36mfilter_traceback.<locals>.error_handler\u001b[0;34m(*args, **kwargs)\u001b[0m\n\u001b[1;32m     67\u001b[0m     filtered_tb \u001b[39m=\u001b[39m _process_traceback_frames(e\u001b[39m.\u001b[39m__traceback__)\n\u001b[1;32m     68\u001b[0m     \u001b[39m# To get the full stack trace, call:\u001b[39;00m\n\u001b[1;32m     69\u001b[0m     \u001b[39m# `tf.debugging.disable_traceback_filtering()`\u001b[39;00m\n\u001b[0;32m---> 70\u001b[0m     \u001b[39mraise\u001b[39;00m e\u001b[39m.\u001b[39mwith_traceback(filtered_tb) \u001b[39mfrom\u001b[39;00m \u001b[39mNone\u001b[39m\n\u001b[1;32m     71\u001b[0m \u001b[39mfinally\u001b[39;00m:\n\u001b[1;32m     72\u001b[0m     \u001b[39mdel\u001b[39;00m filtered_tb\n",
      "File \u001b[0;32m/var/folders/v2/bxm8981n3s577m8cmy5ztmr40000gn/T/__autograph_generated_fileeypo9urz.py:15\u001b[0m, in \u001b[0;36mouter_factory.<locals>.inner_factory.<locals>.tf__train_function\u001b[0;34m(iterator)\u001b[0m\n\u001b[1;32m     13\u001b[0m \u001b[39mtry\u001b[39;00m:\n\u001b[1;32m     14\u001b[0m     do_return \u001b[39m=\u001b[39m \u001b[39mTrue\u001b[39;00m\n\u001b[0;32m---> 15\u001b[0m     retval_ \u001b[39m=\u001b[39m ag__\u001b[39m.\u001b[39mconverted_call(ag__\u001b[39m.\u001b[39mld(step_function), (ag__\u001b[39m.\u001b[39mld(\u001b[39mself\u001b[39m), ag__\u001b[39m.\u001b[39mld(iterator)), \u001b[39mNone\u001b[39;00m, fscope)\n\u001b[1;32m     16\u001b[0m \u001b[39mexcept\u001b[39;00m:\n\u001b[1;32m     17\u001b[0m     do_return \u001b[39m=\u001b[39m \u001b[39mFalse\u001b[39;00m\n",
      "\u001b[0;31mValueError\u001b[0m: in user code:\n\n    File \"/Users/reecepalmer/.pyenv/versions/3.10.6/envs/lewagon/lib/python3.10/site-packages/keras/engine/training.py\", line 1160, in train_function  *\n        return step_function(self, iterator)\n    File \"/Users/reecepalmer/.pyenv/versions/3.10.6/envs/lewagon/lib/python3.10/site-packages/keras/engine/training.py\", line 1146, in step_function  **\n        outputs = model.distribute_strategy.run(run_step, args=(data,))\n    File \"/Users/reecepalmer/.pyenv/versions/3.10.6/envs/lewagon/lib/python3.10/site-packages/keras/engine/training.py\", line 1135, in run_step  **\n        outputs = model.train_step(data)\n    File \"/Users/reecepalmer/.pyenv/versions/3.10.6/envs/lewagon/lib/python3.10/site-packages/keras/engine/training.py\", line 993, in train_step\n        y_pred = self(x, training=True)\n    File \"/Users/reecepalmer/.pyenv/versions/3.10.6/envs/lewagon/lib/python3.10/site-packages/keras/utils/traceback_utils.py\", line 70, in error_handler\n        raise e.with_traceback(filtered_tb) from None\n    File \"/Users/reecepalmer/.pyenv/versions/3.10.6/envs/lewagon/lib/python3.10/site-packages/keras/engine/input_spec.py\", line 295, in assert_input_compatibility\n        raise ValueError(\n\n    ValueError: Input 0 of layer \"sequential_9\" is incompatible with the layer: expected shape=(None, 10), found shape=(None, 13)\n"
     ]
    }
   ],
   "source": [
    "%%time\n",
    "\n",
    "# 1. Instantiating the Adam optimizer with a learning rate alpha = 0.1\n",
    "adam = Adam(learning_rate = 0.1)\n",
    "\n",
    "# 2. Initializing the model\n",
    "model = initialize_model()\n",
    "\n",
    "# 3. Compiling the model with the custom Adam optimizer\n",
    "model = compile_model(model, adam)\n",
    "\n",
    "# 4. Training the neural net\n",
    "es = EarlyStopping(patience = 10)\n",
    "history = model.fit(\n",
    "    X_train_scaled,\n",
    "    y_train, \n",
    "    validation_split = 0.3,\n",
    "    shuffle = True,\n",
    "    batch_size=16, \n",
    "    epochs = 1_000,\n",
    "    callbacks = [es],\n",
    "    verbose = 0\n",
    ")\n",
    "\n",
    "# 5. Plot the history and evaluate the model\n",
    "res = model.evaluate(X_test_scaled, y_test)[1]\n",
    "res\n",
    "print(f'Mean absolute error with a learning rate of 0.1: {res:.4f}')\n",
    "plot_loss_mae(history)"
   ]
  },
  {
   "attachments": {},
   "cell_type": "markdown",
   "metadata": {},
   "source": [
    "### ❓Playing with Learning Rates\n",
    "\n",
    "Now, reproduce the same plots and results but for different Learning Rates.\n",
    "\n",
    "<details>\n",
    "    <summary>Remark</summary>\n",
    "\n",
    "There is a chance that the y-axis is too large for you to visualize some results with some Learning Rates. In that case, feel free to re-write the plot function to plot only the epochs $> 10$.\n",
    "\n",
    "</details>"
   ]
  },
  {
   "cell_type": "code",
   "execution_count": 53,
   "metadata": {},
   "outputs": [],
   "source": [
    "def initialize_model(input_dim=13):\n",
    "    model = models.Sequential()\n",
    "    model.add(layers.Dense(10, activation='relu', input_shape=(input_dim,)))\n",
    "    model.add(layers.Dense(7, activation='relu'))\n",
    "    model.add(layers.Dense(1, activation='linear'))\n",
    "    return model\n"
   ]
  },
  {
   "cell_type": "code",
   "execution_count": 54,
   "metadata": {},
   "outputs": [
    {
     "name": "stdout",
     "output_type": "stream",
     "text": [
      "4/4 [==============================] - 0s 584us/step - loss: 23.7049 - mae: 3.3695\n",
      "Mean absolute error with a learning rate of 0.0001: 3.3695\n"
     ]
    },
    {
     "data": {
      "image/png": "[encoded data removed]",
      "text/plain": [
       "<Figure size 1300x400 with 2 Axes>"
      ]
     },
     "metadata": {},
     "output_type": "display_data"
    },
    {
     "name": "stdout",
     "output_type": "stream",
     "text": [
      "4/4 [==============================] - 0s 576us/step - loss: 22.9128 - mae: 3.1593\n",
      "Mean absolute error with a learning rate of 0.001: 3.1593\n"
     ]
    },
    {
     "data": {
      "image/png": "[encoded data removed]",
      "text/plain": [
       "<Figure size 1300x400 with 2 Axes>"
      ]
     },
     "metadata": {},
     "output_type": "display_data"
    },
    {
     "name": "stdout",
     "output_type": "stream",
     "text": [
      "4/4 [==============================] - 0s 605us/step - loss: 20.1564 - mae: 2.8860\n",
      "Mean absolute error with a learning rate of 0.01: 2.8860\n"
     ]
    },
    {
     "data": {
      "image/png": "[encoded data removed]",
      "text/plain": [
       "<Figure size 1300x400 with 2 Axes>"
      ]
     },
     "metadata": {},
     "output_type": "display_data"
    },
    {
     "name": "stdout",
     "output_type": "stream",
     "text": [
      "4/4 [==============================] - 0s 635us/step - loss: 29.1195 - mae: 4.1004\n",
      "Mean absolute error with a learning rate of 0.1: 4.1004\n"
     ]
    },
    {
     "data": {
      "image/png": "[encoded data removed]",
      "text/plain": [
       "<Figure size 1300x400 with 2 Axes>"
      ]
     },
     "metadata": {},
     "output_type": "display_data"
    },
    {
     "name": "stdout",
     "output_type": "stream",
     "text": [
      "4/4 [==============================] - 0s 506us/step - loss: 85.0897 - mae: 6.5208\n",
      "Mean absolute error with a learning rate of 1: 6.5208\n"
     ]
    },
    {
     "data": {
      "image/png": "[encoded data removed]",
      "text/plain": [
       "<Figure size 1300x400 with 2 Axes>"
      ]
     },
     "metadata": {},
     "output_type": "display_data"
    },
    {
     "name": "stdout",
     "output_type": "stream",
     "text": [
      "4/4 [==============================] - 0s 560us/step - loss: 84.5795 - mae: 6.5137\n",
      "Mean absolute error with a learning rate of 2: 6.5137\n"
     ]
    },
    {
     "data": {
      "image/png": "[encoded data removed]",
      "text/plain": [
       "<Figure size 1300x400 with 2 Axes>"
      ]
     },
     "metadata": {},
     "output_type": "display_data"
    }
   ],
   "source": [
    "learning_rates = [0.0001, 0.001, 0.01, 0.1, 1, 2]\n",
    "results = []\n",
    "\n",
    "for learning_rate in learning_rates:\n",
    "    adam = Adam(learning_rate=learning_rate)\n",
    "\n",
    "    model = initialize_model()\n",
    "\n",
    "    model = compile_model(model, adam)\n",
    "\n",
    "    es = EarlyStopping(patience=10)\n",
    "    history = model.fit(\n",
    "        X_train_scaled,\n",
    "        y_train,\n",
    "        validation_split=0.3,\n",
    "        shuffle=True,\n",
    "        batch_size=16,\n",
    "        epochs=1000,\n",
    "        callbacks=[es],\n",
    "        verbose=0\n",
    "    )\n",
    "\n",
    "    result = model.evaluate(X_test_scaled, y_test)[1]\n",
    "    results.append(result)\n",
    "\n",
    "    print(f'mae with a learning rate of {learning_rate} {result:.4f}')\n",
    "    plot_loss_mae(history)\n"
   ]
  },
  {
   "attachments": {},
   "cell_type": "markdown",
   "metadata": {},
   "source": [
    "## (3) The Loss\n",
    "\n",
    "---\n",
    "\n",
    "❗️It's important to clearly understand the **difference between losses and metrics**❗️\n",
    "\n",
    "- 🏋🏻‍♀️ The **Loss Functions** are computed **during the training procedure**\n",
    "    - For regression tasks, the classic Loss Functions are **(Root) Mean Squared Error** ((R)MSE), **Mean Absolute Error** (MAE), and **Mean Squared Logarithmic Error** (MSLE, as seen in the Kaggle challenge)\n",
    "    - For classification tasks, the classic Loss Functions are **Binary Crossentropy** (also known as LogLoss), **Categorical Crossentropy**, Hinge Loss, etc.\n",
    "- 🧑🏻‍🏫 The **metrics** are computed to evaluate your models, **after training them**!\n",
    "    - For regression tasks, common metrics are MSE, MAE, RMSE, Coefficient of Determination (R2), etc.\n",
    "    - For classification tasks, common metrics are Accuracy, Recall, Precision, and F1-Score\n",
    "- 👀 Notice that some metrics can also be used as Loss Functions, as long as they are differentiable! (e.g. the **MSE**)\n",
    "\n",
    "If these notions are not clear, we strongly advise reviewing **Machine Learning > 03.Performance Metrics** and **Machine Learning > 05.Model Tuning**\n",
    "\n",
    "---\n",
    "\n",
    "⏩ Alright, after this reminder, let's move on:"
   ]
  },
  {
   "attachments": {},
   "cell_type": "markdown",
   "metadata": {},
   "source": [
    "### ❓Optimizing a Model with a certain Loss Function\n",
    "\n",
    "- Run the same NN, once with `mae` as the loss, and once with `mse`\n",
    "- In both cases, compare `mae_train`, `mae_val`, `mse_train`, `mse_val`"
   ]
  },
  {
   "cell_type": "code",
   "execution_count": 56,
   "metadata": {
    "tags": [
     "challengify"
    ]
   },
   "outputs": [
    {
     "name": "stdout",
     "output_type": "stream",
     "text": [
      "results with mae loss\n",
      "MAE Train: 2.2906, MAE val 2.7958\n",
      "MSE Train: 15.7367, MSE val 15.5451\n",
      "\n",
      "Results with 'mse' loss:\n",
      "MAE Train: 1.9865, MAE val 2.9812\n",
      "MSE Train: 8.3643, MSE val 20.8220\n"
     ]
    }
   ],
   "source": [
    "def compile_model_loss(model, optimizer, loss):\n",
    "    model.compile(loss=loss,\n",
    "                  optimizer=optimizer,\n",
    "                  metrics=['mae', 'mse'])\n",
    "    return model\n",
    "\n",
    "model = initialize_model(input_dim=13)\n",
    "\n",
    "mae_optimizer = Adam(learning_rate=0.001)\n",
    "model_mae = compile_model_loss(model, mae_optimizer, 'mae')\n",
    "\n",
    "es = EarlyStopping(patience=10)\n",
    "history_mae = model_mae.fit(\n",
    "    X_train_scaled,\n",
    "    y_train,\n",
    "    validation_split=0.3,\n",
    "    shuffle=True,\n",
    "    batch_size=16,\n",
    "    epochs=1000,\n",
    "    callbacks=[es],\n",
    "    verbose=0\n",
    ")\n",
    "\n",
    "mae_train = model_mae.evaluate(X_train_scaled, y_train, verbose=0)\n",
    "mae_val = model_mae.evaluate(X_test_scaled, y_test, verbose=0)\n",
    "\n",
    "mse_optimizer = Adam(learning_rate=0.001)\n",
    "model_mse = compile_model_loss(model, mse_optimizer, 'mse')\n",
    "\n",
    "es = EarlyStopping(patience=10)\n",
    "history_mse = model_mse.fit(\n",
    "    X_train_scaled,\n",
    "    y_train,\n",
    "    validation_split=0.3,\n",
    "    shuffle=True,\n",
    "    batch_size=16,\n",
    "    epochs=1000,\n",
    "    callbacks=[es],\n",
    "    verbose=0\n",
    ")\n",
    "\n",
    "mse_train = model_mse.evaluate(X_train_scaled, y_train, verbose=0)\n",
    "mse_val = model_mse.evaluate(X_test_scaled, y_test, verbose=0)\n",
    "\n",
    "print(\"results with mae loss\")\n",
    "print(f\"MAE Train: {mae_train[1]:.4f}, MAE val {mae_val[1]:.4f}\")\n",
    "print(f\"MSE Train: {mae_train[2]:.4f}, MSE val {mae_val[2]:.4f}\")\n",
    "\n",
    "print(\"\\nResults with 'mse' loss:\")\n",
    "print(f\"MAE Train: {mse_train[1]:.4f}, MAE val {mse_val[1]:.4f}\")\n",
    "print(f\"MSE Train: {mse_train[2]:.4f}, MSE val {mse_val[2]:.4f}\")"
   ]
  },
  {
   "attachments": {},
   "cell_type": "markdown",
   "metadata": {},
   "source": [
    "### 💡Learnings\n",
    "\n",
    "🤔 When you work on this regression task, you want to achieve the lowest MAE in the testing set at the end, right? So why wouldn't we use it directly as a Loss Function that would decrease with the number of epochs? \n",
    "\n",
    "<details>\n",
    "    <summary>Answer</summary>\n",
    "\n",
    "Well, even the Deep Learning research community is still trying to answer these types of questions rigorously.\n",
    "\n",
    "One thing is sure: in Deep Learning, you will never really reach the \"global minimum\" of the true Loss Function (the one computed using your entire training set as one single batch). So, in your first model (minimizing the MAE loss), your global MAE minimum has clearly **not** been reached (otherwise you could never beat it). \n",
    "\n",
    "Why? It may well be that the minimization process of the second model has performed better. Maybe because the Loss Function \"energy map\" is \"smoother\" or more \"convex\" in the case of MSE loss? Or maybe your hyper-parameters are best suited to the MSE than to the MAE loss?\n",
    "\n",
    "</details>"
   ]
  },
  {
   "attachments": {},
   "cell_type": "markdown",
   "metadata": {},
   "source": [
    "## (4)  Saving and Loading a Trained Neural Network\n",
    "\n",
    "🤯 Imagine that you trained a complex Neural Network (many layers/neurons) on a huge dataset. The parameters of your Deep Learning Model (weights and biases) are now optimized and you would like to share these weights with a teammate who wants to predict a new data point. Would you give this person your notebook for them to run it and then predict the new data point? Hell no, we have a much better solution:\n",
    "- 💾 Save the weights of the optimized Neural Network\n",
    "- 🤝 Your friend/colleague/teammate/classmate can use them to predict a new data point"
   ]
  },
  {
   "attachments": {},
   "cell_type": "markdown",
   "metadata": {},
   "source": [
    "### ❓Training a Good Model\n",
    "\n",
    "- Try to reach an MAE on the testing set that is lower than 5 (_feel free to re-create the architecture and redefine your compiling parameters in this section!_)\n",
    "    - Remember: we are predicting house prices, so a mistake of less than 5.000 USD is already good in the real estate industry)\n",
    "\n",
    "- Whether you managed to reach it or not, move on to the \"Saving a Model\" section after a few attempts."
   ]
  },
  {
   "cell_type": "code",
   "execution_count": 61,
   "metadata": {
    "tags": [
     "challengify"
    ]
   },
   "outputs": [
    {
     "name": "stdout",
     "output_type": "stream",
     "text": [
      "mae on the testing set 3.1686\n"
     ]
    }
   ],
   "source": [
    "def initialize_good_model(input_dim=13):\n",
    "    model = models.Sequential()\n",
    "    model.add(layers.Dense(64, activation='relu', input_shape=(input_dim,)))\n",
    "    model.add(layers.Dropout(0.5))\n",
    "    model.add(layers.Dense(32, activation='relu'))\n",
    "    model.add(layers.Dropout(0.3))\n",
    "    model.add(layers.Dense(1, activation='linear'))\n",
    "    return model\n",
    "\n",
    "good_model = initialize_good_model(input_dim=13)\n",
    "\n",
    "optimizer = Adam(learning_rate=0.001)\n",
    "good_model = compile_model_loss(good_model, optimizer, 'mae')\n",
    "\n",
    "es = EarlyStopping(patience=20)\n",
    "history_good_model = good_model.fit(\n",
    "    X_train_scaled,\n",
    "    y_train,\n",
    "    validation_split=0.2,\n",
    "    shuffle=True,\n",
    "    batch_size=16,\n",
    "    epochs=500,\n",
    "    callbacks=[es],\n",
    "    verbose=0\n",
    ")\n",
    "\n",
    "mae_test = good_model.evaluate(X_test_scaled, y_test, verbose=0)[1]\n",
    "\n",
    "print(f\"mae on the testing set {mae_test:.4f}\")"
   ]
  },
  {
   "cell_type": "code",
   "execution_count": 62,
   "metadata": {},
   "outputs": [
    {
     "name": "stdout",
     "output_type": "stream",
     "text": [
      "\n",
      "\u001b[1m============================= test session starts ==============================\u001b[0m\n",
      "platform darwin -- Python 3.10.6, pytest-7.1.3, pluggy-1.0.0 -- /Users/reecepalmer/.pyenv/versions/3.10.6/envs/lewagon/bin/python3\n",
      "cachedir: .pytest_cache\n",
      "rootdir: /Users/reecepalmer/Code/RPalmr/06-Deep-Learning/02-Optimizer-loss-and-fitting/data-finetune-your-neural-network/tests\n",
      "plugins: asyncio-0.19.0, dash-2.14.0, typeguard-2.13.3, anyio-3.6.2, hydra-core-1.3.2\n",
      "asyncio: mode=strict\n",
      "\u001b[1mcollecting ... \u001b[0mcollected 1 item\n",
      "\n",
      "test_solution.py::TestSolution::test_is_score_beat_baseline \u001b[32mPASSED\u001b[0m\u001b[32m       [100%]\u001b[0m\n",
      "\n",
      "\u001b[32m============================== \u001b[32m\u001b[1m1 passed\u001b[0m\u001b[32m in 0.01s\u001b[0m\u001b[32m ===============================\u001b[0m\n",
      "\n",
      "\n",
      "💯 You can commit your code:\n",
      "\n",
      "\u001b[1;32mgit\u001b[39m add tests/solution.pickle\n",
      "\n",
      "\u001b[32mgit\u001b[39m commit -m \u001b[33m'Completed solution step'\u001b[39m\n",
      "\n",
      "\u001b[32mgit\u001b[39m push origin master\n",
      "\n"
     ]
    }
   ],
   "source": [
    "from nbresult import ChallengeResult\n",
    "\n",
    "result = ChallengeResult(\n",
    "    'solution',\n",
    "    mae_test = mae_test\n",
    ")\n",
    "\n",
    "result.write()\n",
    "print(result.check())"
   ]
  },
  {
   "attachments": {},
   "cell_type": "markdown",
   "metadata": {},
   "source": [
    "### ❓Saving a Model\n",
    "\n",
    "📚 [`tf.keras.models.save_model`](https://www.tensorflow.org/api_docs/python/tf/keras/models/save_model)\n",
    "\n",
    "Save your model using the `.save_model(model, 'name_of_my_model')` method."
   ]
  },
  {
   "cell_type": "code",
   "execution_count": 63,
   "metadata": {
    "tags": [
     "challengify"
    ]
   },
   "outputs": [
    {
     "name": "stdout",
     "output_type": "stream",
     "text": [
      "INFO:tensorflow:Assets written to: model/assets\n"
     ]
    }
   ],
   "source": [
    "from tensorflow.keras.models import save_model\n",
    "\n",
    "save_model(good_model, 'model')"
   ]
  },
  {
   "attachments": {},
   "cell_type": "markdown",
   "metadata": {},
   "source": [
    "### ❓Loading a Model\n",
    "\n",
    "📚 [`tf.keras.models.load_model`](https://www.tensorflow.org/api_docs/python/tf/keras/models/load_model)\n",
    "\n",
    "- Load the model that you've just saved using `.load_model('name_of_your_model')` and store it into a variable called `loaded_model`\n",
    "- Evaluate it on the testing data to check that it gives the same result as before"
   ]
  },
  {
   "cell_type": "code",
   "execution_count": 64,
   "metadata": {
    "tags": [
     "challengify"
    ]
   },
   "outputs": [],
   "source": [
    "from tensorflow.keras.models import load_model\n",
    "\n",
    "loaded_model = load_model('model')\n"
   ]
  },
  {
   "cell_type": "code",
   "execution_count": 65,
   "metadata": {
    "tags": [
     "challengify"
    ]
   },
   "outputs": [
    {
     "name": "stdout",
     "output_type": "stream",
     "text": [
      "mae on the testing set with the loaded model 3.1686\n"
     ]
    }
   ],
   "source": [
    "\n",
    "mae_test_loaded_model = loaded_model.evaluate(X_test_scaled, y_test, verbose=0)[1]\n",
    "\n",
    "print(f\"mae on the testing set with the loaded model {mae_test_loaded_model:.4f}\")"
   ]
  },
  {
   "attachments": {},
   "cell_type": "markdown",
   "metadata": {},
   "source": [
    "## (5) (Optional) Exponential Decay\n",
    "\n",
    "❗️Warning❗️ \n",
    "\n",
    "- This section is optional and for advanced practitioners\n",
    "- The next question is not essential and can be indeed skipped as many algorithms can be run without such optimization\n",
    "\n",
    "🧑🏻‍🏫 Instead of keeping a fixed Learning Rate, you can change it from one iteration to the other, with the intuition that at first, you need a large Learning Rate to learn fast, and as the Neural Network converges and gets closer to the minimum of the Loss Function, you can decrease the value of the Learning Rate. This is called a **scheduler**. "
   ]
  },
  {
   "attachments": {},
   "cell_type": "markdown",
   "metadata": {},
   "source": [
    "### ❓The Exponential Decay Scheduler\n",
    "\n",
    "Use the 📚 [Exponential Decay Scheduler](https://www.tensorflow.org/api_docs/python/tf/keras/optimizers/schedules/ExponentialDecay) 📚 in the `adam` optimizer, and run it on the previous data.\n",
    "\n",
    "Start with the following:\n",
    "\n",
    "```python\n",
    "initial_learning_rate = 0.001 # start with default Adam value\n",
    "\n",
    "lr_schedule = ExponentialDecay(\n",
    "    # Every 5000 iterations, multiply the learning rate by 0.7\n",
    "    initial_learning_rate, decay_steps = 5000, decay_rate = 0.7,\n",
    ")\n",
    "```"
   ]
  },
  {
   "cell_type": "code",
   "execution_count": 66,
   "metadata": {},
   "outputs": [
    {
     "data": {
      "text/plain": [
       "17.674999999999997"
      ]
     },
     "execution_count": 66,
     "metadata": {},
     "output_type": "execute_result"
    }
   ],
   "source": [
    "X_train.shape[0] * 0.7 / 16"
   ]
  },
  {
   "cell_type": "code",
   "execution_count": 67,
   "metadata": {
    "tags": [
     "challengify"
    ]
   },
   "outputs": [
    {
     "name": "stdout",
     "output_type": "stream",
     "text": [
      "mae on the testing set with exponential decay: 3.1402\n"
     ]
    }
   ],
   "source": [
    "from tensorflow.keras.optimizers.schedules import ExponentialDecay\n",
    "\n",
    "def initialize_model_exponential_decay(input_dim=13):\n",
    "    model = models.Sequential([\n",
    "        layers.Dense(64, activation='relu', input_shape=(input_dim,)),\n",
    "        layers.Dropout(0.5),\n",
    "        layers.Dense(32, activation='relu'),\n",
    "        layers.Dropout(0.3),\n",
    "        layers.Dense(1, activation='linear')\n",
    "    ])\n",
    "    return model\n",
    "\n",
    "initial_learning_rate = 0.001\n",
    "lr_schedule = ExponentialDecay(initial_learning_rate, decay_steps=5000, decay_rate=0.7)\n",
    "adam_with_decay = Adam(learning_rate=lr_schedule)\n",
    "\n",
    "model_exponential_decay = initialize_model_exponential_decay(input_dim=13)\n",
    "model_exponential_decay = compile_model_loss(model_exponential_decay, adam_with_decay, 'mae')\n",
    "\n",
    "es = EarlyStopping(patience=20)\n",
    "history_exponential_decay = model_exponential_decay.fit(\n",
    "    X_train_scaled,\n",
    "    y_train,\n",
    "    validation_split=0.2,\n",
    "    shuffle=True,\n",
    "    batch_size=16,\n",
    "    epochs=500,\n",
    "    callbacks=[es],\n",
    "    verbose=0\n",
    ")\n",
    "\n",
    "mae_test_exponential_decay = model_exponential_decay.evaluate(X_test_scaled, y_test, verbose=0)[1]\n",
    "print(f\"mae on the testing set with exponential decay: {mae_test_exponential_decay:.4f}\")"
   ]
  },
  {
   "attachments": {},
   "cell_type": "markdown",
   "metadata": {},
   "source": [
    "## 🏁 Congratulations!\n",
    "\n",
    "💾 Do not forget to `git add/commit/push` your notebook...\n",
    "\n",
    "🚀 ... and move to the next challenge!\n",
    "\n",
    "---\n",
    "\n",
    "**Further reading after your bootcamp:**\n",
    "\n",
    "The **Boston Housing Dataset** was deprecated by Scikit-Learn for ethical reasons, and TensorFlow may also replace it in the future.\n",
    "\n",
    "A certain M. Carlisle wrote a 12-min read article called [\"Racist Data Destruction\"](https://medium.com/@docintangible/racist-data-destruction-113e3eff54a8) to investigate this problem."
   ]
  }
 ],
 "metadata": {
  "kernelspec": {
   "display_name": "Python 3",
   "language": "python",
   "name": "python3"
  },
  "language_info": {
   "codemirror_mode": {
    "name": "ipython",
    "version": 3
   },
   "file_extension": ".py",
   "mimetype": "text/x-python",
   "name": "python",
   "nbconvert_exporter": "python",
   "pygments_lexer": "ipython3",
   "version": "3.10.6"
  }
 },
 "nbformat": 4,
 "nbformat_minor": 4
}
